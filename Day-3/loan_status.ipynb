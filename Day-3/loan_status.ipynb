{
 "cells": [
  {
   "cell_type": "code",
   "execution_count": 1,
   "metadata": {},
   "outputs": [],
   "source": [
    "import pandas as pd\n",
    "import numpy as np\n",
    "import matplotlib.pyplot as plt\n",
    "import seaborn as sns\n",
    "plt.style.use('seaborn')"
   ]
  },
  {
   "cell_type": "code",
   "execution_count": 63,
   "metadata": {},
   "outputs": [],
   "source": [
    "df = pd.read_csv('http://iali.in/datasets/loan_status_train.csv')"
   ]
  },
  {
   "cell_type": "code",
   "execution_count": 64,
   "metadata": {},
   "outputs": [
    {
     "data": {
      "text/plain": [
       "(614, 13)"
      ]
     },
     "execution_count": 64,
     "metadata": {},
     "output_type": "execute_result"
    }
   ],
   "source": [
    "df.shape"
   ]
  },
  {
   "cell_type": "code",
   "execution_count": 65,
   "metadata": {},
   "outputs": [
    {
     "data": {
      "text/html": [
       "<div>\n",
       "<style scoped>\n",
       "    .dataframe tbody tr th:only-of-type {\n",
       "        vertical-align: middle;\n",
       "    }\n",
       "\n",
       "    .dataframe tbody tr th {\n",
       "        vertical-align: top;\n",
       "    }\n",
       "\n",
       "    .dataframe thead th {\n",
       "        text-align: right;\n",
       "    }\n",
       "</style>\n",
       "<table border=\"1\" class=\"dataframe\">\n",
       "  <thead>\n",
       "    <tr style=\"text-align: right;\">\n",
       "      <th></th>\n",
       "      <th>Loan_ID</th>\n",
       "      <th>Gender</th>\n",
       "      <th>Married</th>\n",
       "      <th>Dependents</th>\n",
       "      <th>Education</th>\n",
       "      <th>Self_Employed</th>\n",
       "      <th>ApplicantIncome</th>\n",
       "      <th>CoapplicantIncome</th>\n",
       "      <th>LoanAmount</th>\n",
       "      <th>Loan_Amount_Term</th>\n",
       "      <th>Credit_History</th>\n",
       "      <th>Property_Area</th>\n",
       "      <th>Loan_Status</th>\n",
       "    </tr>\n",
       "  </thead>\n",
       "  <tbody>\n",
       "    <tr>\n",
       "      <th>0</th>\n",
       "      <td>LP001002</td>\n",
       "      <td>Male</td>\n",
       "      <td>No</td>\n",
       "      <td>0</td>\n",
       "      <td>Graduate</td>\n",
       "      <td>No</td>\n",
       "      <td>5849</td>\n",
       "      <td>0.0</td>\n",
       "      <td>NaN</td>\n",
       "      <td>360.0</td>\n",
       "      <td>1.0</td>\n",
       "      <td>Urban</td>\n",
       "      <td>Y</td>\n",
       "    </tr>\n",
       "    <tr>\n",
       "      <th>1</th>\n",
       "      <td>LP001003</td>\n",
       "      <td>Male</td>\n",
       "      <td>Yes</td>\n",
       "      <td>1</td>\n",
       "      <td>Graduate</td>\n",
       "      <td>No</td>\n",
       "      <td>4583</td>\n",
       "      <td>1508.0</td>\n",
       "      <td>128.0</td>\n",
       "      <td>360.0</td>\n",
       "      <td>1.0</td>\n",
       "      <td>Rural</td>\n",
       "      <td>N</td>\n",
       "    </tr>\n",
       "    <tr>\n",
       "      <th>2</th>\n",
       "      <td>LP001005</td>\n",
       "      <td>Male</td>\n",
       "      <td>Yes</td>\n",
       "      <td>0</td>\n",
       "      <td>Graduate</td>\n",
       "      <td>Yes</td>\n",
       "      <td>3000</td>\n",
       "      <td>0.0</td>\n",
       "      <td>66.0</td>\n",
       "      <td>360.0</td>\n",
       "      <td>1.0</td>\n",
       "      <td>Urban</td>\n",
       "      <td>Y</td>\n",
       "    </tr>\n",
       "    <tr>\n",
       "      <th>3</th>\n",
       "      <td>LP001006</td>\n",
       "      <td>Male</td>\n",
       "      <td>Yes</td>\n",
       "      <td>0</td>\n",
       "      <td>Not Graduate</td>\n",
       "      <td>No</td>\n",
       "      <td>2583</td>\n",
       "      <td>2358.0</td>\n",
       "      <td>120.0</td>\n",
       "      <td>360.0</td>\n",
       "      <td>1.0</td>\n",
       "      <td>Urban</td>\n",
       "      <td>Y</td>\n",
       "    </tr>\n",
       "    <tr>\n",
       "      <th>4</th>\n",
       "      <td>LP001008</td>\n",
       "      <td>Male</td>\n",
       "      <td>No</td>\n",
       "      <td>0</td>\n",
       "      <td>Graduate</td>\n",
       "      <td>No</td>\n",
       "      <td>6000</td>\n",
       "      <td>0.0</td>\n",
       "      <td>141.0</td>\n",
       "      <td>360.0</td>\n",
       "      <td>1.0</td>\n",
       "      <td>Urban</td>\n",
       "      <td>Y</td>\n",
       "    </tr>\n",
       "  </tbody>\n",
       "</table>\n",
       "</div>"
      ],
      "text/plain": [
       "    Loan_ID Gender Married Dependents     Education Self_Employed  \\\n",
       "0  LP001002   Male      No          0      Graduate            No   \n",
       "1  LP001003   Male     Yes          1      Graduate            No   \n",
       "2  LP001005   Male     Yes          0      Graduate           Yes   \n",
       "3  LP001006   Male     Yes          0  Not Graduate            No   \n",
       "4  LP001008   Male      No          0      Graduate            No   \n",
       "\n",
       "   ApplicantIncome  CoapplicantIncome  LoanAmount  Loan_Amount_Term  \\\n",
       "0             5849                0.0         NaN             360.0   \n",
       "1             4583             1508.0       128.0             360.0   \n",
       "2             3000                0.0        66.0             360.0   \n",
       "3             2583             2358.0       120.0             360.0   \n",
       "4             6000                0.0       141.0             360.0   \n",
       "\n",
       "   Credit_History Property_Area Loan_Status  \n",
       "0             1.0         Urban           Y  \n",
       "1             1.0         Rural           N  \n",
       "2             1.0         Urban           Y  \n",
       "3             1.0         Urban           Y  \n",
       "4             1.0         Urban           Y  "
      ]
     },
     "execution_count": 65,
     "metadata": {},
     "output_type": "execute_result"
    }
   ],
   "source": [
    "df.head()"
   ]
  },
  {
   "cell_type": "code",
   "execution_count": 66,
   "metadata": {},
   "outputs": [
    {
     "data": {
      "text/html": [
       "<div>\n",
       "<style scoped>\n",
       "    .dataframe tbody tr th:only-of-type {\n",
       "        vertical-align: middle;\n",
       "    }\n",
       "\n",
       "    .dataframe tbody tr th {\n",
       "        vertical-align: top;\n",
       "    }\n",
       "\n",
       "    .dataframe thead th {\n",
       "        text-align: right;\n",
       "    }\n",
       "</style>\n",
       "<table border=\"1\" class=\"dataframe\">\n",
       "  <thead>\n",
       "    <tr style=\"text-align: right;\">\n",
       "      <th></th>\n",
       "      <th>Loan_ID</th>\n",
       "      <th>Gender</th>\n",
       "      <th>Married</th>\n",
       "      <th>Dependents</th>\n",
       "      <th>Education</th>\n",
       "      <th>Self_Employed</th>\n",
       "      <th>ApplicantIncome</th>\n",
       "      <th>CoapplicantIncome</th>\n",
       "      <th>LoanAmount</th>\n",
       "      <th>Loan_Amount_Term</th>\n",
       "      <th>Credit_History</th>\n",
       "      <th>Property_Area</th>\n",
       "      <th>Loan_Status</th>\n",
       "    </tr>\n",
       "  </thead>\n",
       "  <tbody>\n",
       "    <tr>\n",
       "      <th>0</th>\n",
       "      <td>LP001002</td>\n",
       "      <td>Male</td>\n",
       "      <td>No</td>\n",
       "      <td>0</td>\n",
       "      <td>Graduate</td>\n",
       "      <td>No</td>\n",
       "      <td>5849</td>\n",
       "      <td>0.0</td>\n",
       "      <td>NaN</td>\n",
       "      <td>360.0</td>\n",
       "      <td>1.0</td>\n",
       "      <td>Urban</td>\n",
       "      <td>Y</td>\n",
       "    </tr>\n",
       "    <tr>\n",
       "      <th>1</th>\n",
       "      <td>LP001003</td>\n",
       "      <td>Male</td>\n",
       "      <td>Yes</td>\n",
       "      <td>1</td>\n",
       "      <td>Graduate</td>\n",
       "      <td>No</td>\n",
       "      <td>4583</td>\n",
       "      <td>1508.0</td>\n",
       "      <td>128.0</td>\n",
       "      <td>360.0</td>\n",
       "      <td>1.0</td>\n",
       "      <td>Rural</td>\n",
       "      <td>N</td>\n",
       "    </tr>\n",
       "    <tr>\n",
       "      <th>2</th>\n",
       "      <td>LP001005</td>\n",
       "      <td>Male</td>\n",
       "      <td>Yes</td>\n",
       "      <td>0</td>\n",
       "      <td>Graduate</td>\n",
       "      <td>Yes</td>\n",
       "      <td>3000</td>\n",
       "      <td>0.0</td>\n",
       "      <td>66.0</td>\n",
       "      <td>360.0</td>\n",
       "      <td>1.0</td>\n",
       "      <td>Urban</td>\n",
       "      <td>Y</td>\n",
       "    </tr>\n",
       "    <tr>\n",
       "      <th>3</th>\n",
       "      <td>LP001006</td>\n",
       "      <td>Male</td>\n",
       "      <td>Yes</td>\n",
       "      <td>0</td>\n",
       "      <td>Not Graduate</td>\n",
       "      <td>No</td>\n",
       "      <td>2583</td>\n",
       "      <td>2358.0</td>\n",
       "      <td>120.0</td>\n",
       "      <td>360.0</td>\n",
       "      <td>1.0</td>\n",
       "      <td>Urban</td>\n",
       "      <td>Y</td>\n",
       "    </tr>\n",
       "    <tr>\n",
       "      <th>4</th>\n",
       "      <td>LP001008</td>\n",
       "      <td>Male</td>\n",
       "      <td>No</td>\n",
       "      <td>0</td>\n",
       "      <td>Graduate</td>\n",
       "      <td>No</td>\n",
       "      <td>6000</td>\n",
       "      <td>0.0</td>\n",
       "      <td>141.0</td>\n",
       "      <td>360.0</td>\n",
       "      <td>1.0</td>\n",
       "      <td>Urban</td>\n",
       "      <td>Y</td>\n",
       "    </tr>\n",
       "  </tbody>\n",
       "</table>\n",
       "</div>"
      ],
      "text/plain": [
       "    Loan_ID Gender Married Dependents     Education Self_Employed  \\\n",
       "0  LP001002   Male      No          0      Graduate            No   \n",
       "1  LP001003   Male     Yes          1      Graduate            No   \n",
       "2  LP001005   Male     Yes          0      Graduate           Yes   \n",
       "3  LP001006   Male     Yes          0  Not Graduate            No   \n",
       "4  LP001008   Male      No          0      Graduate            No   \n",
       "\n",
       "   ApplicantIncome  CoapplicantIncome  LoanAmount  Loan_Amount_Term  \\\n",
       "0             5849                0.0         NaN             360.0   \n",
       "1             4583             1508.0       128.0             360.0   \n",
       "2             3000                0.0        66.0             360.0   \n",
       "3             2583             2358.0       120.0             360.0   \n",
       "4             6000                0.0       141.0             360.0   \n",
       "\n",
       "   Credit_History Property_Area Loan_Status  \n",
       "0             1.0         Urban           Y  \n",
       "1             1.0         Rural           N  \n",
       "2             1.0         Urban           Y  \n",
       "3             1.0         Urban           Y  \n",
       "4             1.0         Urban           Y  "
      ]
     },
     "execution_count": 66,
     "metadata": {},
     "output_type": "execute_result"
    }
   ],
   "source": [
    "df.head()"
   ]
  },
  {
   "cell_type": "code",
   "execution_count": 67,
   "metadata": {},
   "outputs": [
    {
     "data": {
      "text/html": [
       "<div>\n",
       "<style scoped>\n",
       "    .dataframe tbody tr th:only-of-type {\n",
       "        vertical-align: middle;\n",
       "    }\n",
       "\n",
       "    .dataframe tbody tr th {\n",
       "        vertical-align: top;\n",
       "    }\n",
       "\n",
       "    .dataframe thead th {\n",
       "        text-align: right;\n",
       "    }\n",
       "</style>\n",
       "<table border=\"1\" class=\"dataframe\">\n",
       "  <thead>\n",
       "    <tr style=\"text-align: right;\">\n",
       "      <th></th>\n",
       "      <th>ApplicantIncome</th>\n",
       "      <th>CoapplicantIncome</th>\n",
       "      <th>LoanAmount</th>\n",
       "      <th>Loan_Amount_Term</th>\n",
       "      <th>Credit_History</th>\n",
       "    </tr>\n",
       "  </thead>\n",
       "  <tbody>\n",
       "    <tr>\n",
       "      <th>count</th>\n",
       "      <td>614.000000</td>\n",
       "      <td>614.000000</td>\n",
       "      <td>592.000000</td>\n",
       "      <td>600.00000</td>\n",
       "      <td>564.000000</td>\n",
       "    </tr>\n",
       "    <tr>\n",
       "      <th>mean</th>\n",
       "      <td>5403.459283</td>\n",
       "      <td>1621.245798</td>\n",
       "      <td>146.412162</td>\n",
       "      <td>342.00000</td>\n",
       "      <td>0.842199</td>\n",
       "    </tr>\n",
       "    <tr>\n",
       "      <th>std</th>\n",
       "      <td>6109.041673</td>\n",
       "      <td>2926.248369</td>\n",
       "      <td>85.587325</td>\n",
       "      <td>65.12041</td>\n",
       "      <td>0.364878</td>\n",
       "    </tr>\n",
       "    <tr>\n",
       "      <th>min</th>\n",
       "      <td>150.000000</td>\n",
       "      <td>0.000000</td>\n",
       "      <td>9.000000</td>\n",
       "      <td>12.00000</td>\n",
       "      <td>0.000000</td>\n",
       "    </tr>\n",
       "    <tr>\n",
       "      <th>25%</th>\n",
       "      <td>2877.500000</td>\n",
       "      <td>0.000000</td>\n",
       "      <td>100.000000</td>\n",
       "      <td>360.00000</td>\n",
       "      <td>1.000000</td>\n",
       "    </tr>\n",
       "    <tr>\n",
       "      <th>50%</th>\n",
       "      <td>3812.500000</td>\n",
       "      <td>1188.500000</td>\n",
       "      <td>128.000000</td>\n",
       "      <td>360.00000</td>\n",
       "      <td>1.000000</td>\n",
       "    </tr>\n",
       "    <tr>\n",
       "      <th>75%</th>\n",
       "      <td>5795.000000</td>\n",
       "      <td>2297.250000</td>\n",
       "      <td>168.000000</td>\n",
       "      <td>360.00000</td>\n",
       "      <td>1.000000</td>\n",
       "    </tr>\n",
       "    <tr>\n",
       "      <th>max</th>\n",
       "      <td>81000.000000</td>\n",
       "      <td>41667.000000</td>\n",
       "      <td>700.000000</td>\n",
       "      <td>480.00000</td>\n",
       "      <td>1.000000</td>\n",
       "    </tr>\n",
       "  </tbody>\n",
       "</table>\n",
       "</div>"
      ],
      "text/plain": [
       "       ApplicantIncome  CoapplicantIncome  LoanAmount  Loan_Amount_Term  \\\n",
       "count       614.000000         614.000000  592.000000         600.00000   \n",
       "mean       5403.459283        1621.245798  146.412162         342.00000   \n",
       "std        6109.041673        2926.248369   85.587325          65.12041   \n",
       "min         150.000000           0.000000    9.000000          12.00000   \n",
       "25%        2877.500000           0.000000  100.000000         360.00000   \n",
       "50%        3812.500000        1188.500000  128.000000         360.00000   \n",
       "75%        5795.000000        2297.250000  168.000000         360.00000   \n",
       "max       81000.000000       41667.000000  700.000000         480.00000   \n",
       "\n",
       "       Credit_History  \n",
       "count      564.000000  \n",
       "mean         0.842199  \n",
       "std          0.364878  \n",
       "min          0.000000  \n",
       "25%          1.000000  \n",
       "50%          1.000000  \n",
       "75%          1.000000  \n",
       "max          1.000000  "
      ]
     },
     "execution_count": 67,
     "metadata": {},
     "output_type": "execute_result"
    }
   ],
   "source": [
    "df.describe()"
   ]
  },
  {
   "cell_type": "code",
   "execution_count": 68,
   "metadata": {},
   "outputs": [
    {
     "data": {
      "text/plain": [
       "Loan_ID               0\n",
       "Gender               13\n",
       "Married               3\n",
       "Dependents           15\n",
       "Education             0\n",
       "Self_Employed        32\n",
       "ApplicantIncome       0\n",
       "CoapplicantIncome     0\n",
       "LoanAmount           22\n",
       "Loan_Amount_Term     14\n",
       "Credit_History       50\n",
       "Property_Area         0\n",
       "Loan_Status           0\n",
       "dtype: int64"
      ]
     },
     "execution_count": 68,
     "metadata": {},
     "output_type": "execute_result"
    }
   ],
   "source": [
    "df.isna().sum()"
   ]
  },
  {
   "cell_type": "code",
   "execution_count": 69,
   "metadata": {},
   "outputs": [
    {
     "data": {
      "text/plain": [
       "Male      489\n",
       "Female    112\n",
       "Name: Gender, dtype: int64"
      ]
     },
     "execution_count": 69,
     "metadata": {},
     "output_type": "execute_result"
    }
   ],
   "source": [
    "df['Gender'].value_counts()"
   ]
  },
  {
   "cell_type": "code",
   "execution_count": 70,
   "metadata": {},
   "outputs": [],
   "source": [
    "#Filling nan values in Gender with female\n",
    "df['Gender'].fillna('Female',inplace=True)"
   ]
  },
  {
   "cell_type": "code",
   "execution_count": 71,
   "metadata": {},
   "outputs": [
    {
     "data": {
      "text/plain": [
       "Yes    398\n",
       "No     213\n",
       "Name: Married, dtype: int64"
      ]
     },
     "execution_count": 71,
     "metadata": {},
     "output_type": "execute_result"
    }
   ],
   "source": [
    "df['Married'].value_counts()"
   ]
  },
  {
   "cell_type": "code",
   "execution_count": 72,
   "metadata": {},
   "outputs": [],
   "source": [
    "#Filling Married column with No\n",
    "df['Married'].fillna('No',inplace=True)"
   ]
  },
  {
   "cell_type": "code",
   "execution_count": 73,
   "metadata": {},
   "outputs": [
    {
     "data": {
      "text/plain": [
       "0     345\n",
       "1     102\n",
       "2     101\n",
       "3+     51\n",
       "Name: Dependents, dtype: int64"
      ]
     },
     "execution_count": 73,
     "metadata": {},
     "output_type": "execute_result"
    }
   ],
   "source": [
    "df['Dependents'].value_counts()"
   ]
  },
  {
   "cell_type": "code",
   "execution_count": 74,
   "metadata": {},
   "outputs": [
    {
     "data": {
      "text/plain": [
       "array(['0', '1', '2', '3+', nan], dtype=object)"
      ]
     },
     "execution_count": 74,
     "metadata": {},
     "output_type": "execute_result"
    }
   ],
   "source": [
    "df['Dependents'].unique()"
   ]
  },
  {
   "cell_type": "code",
   "execution_count": 75,
   "metadata": {},
   "outputs": [],
   "source": [
    "#Filling Dependents with 0\n",
    "df['Dependents'].fillna('0',inplace=True)"
   ]
  },
  {
   "cell_type": "code",
   "execution_count": 76,
   "metadata": {},
   "outputs": [
    {
     "data": {
      "text/plain": [
       "Graduate        480\n",
       "Not Graduate    134\n",
       "Name: Education, dtype: int64"
      ]
     },
     "execution_count": 76,
     "metadata": {},
     "output_type": "execute_result"
    }
   ],
   "source": [
    "df['Education'].value_counts()"
   ]
  },
  {
   "cell_type": "code",
   "execution_count": 77,
   "metadata": {},
   "outputs": [
    {
     "data": {
      "text/plain": [
       "No     500\n",
       "Yes     82\n",
       "Name: Self_Employed, dtype: int64"
      ]
     },
     "execution_count": 77,
     "metadata": {},
     "output_type": "execute_result"
    }
   ],
   "source": [
    "df['Self_Employed'].value_counts()"
   ]
  },
  {
   "cell_type": "code",
   "execution_count": 78,
   "metadata": {},
   "outputs": [
    {
     "data": {
      "text/plain": [
       "array(['No', 'Yes', nan], dtype=object)"
      ]
     },
     "execution_count": 78,
     "metadata": {},
     "output_type": "execute_result"
    }
   ],
   "source": [
    "df['Self_Employed'].unique()"
   ]
  },
  {
   "cell_type": "code",
   "execution_count": 79,
   "metadata": {},
   "outputs": [],
   "source": [
    "#Filling Self employed with Yes \n",
    "df['Self_Employed'].fillna('Yes',inplace=True)"
   ]
  },
  {
   "cell_type": "code",
   "execution_count": 80,
   "metadata": {},
   "outputs": [
    {
     "data": {
      "text/plain": [
       "2500    9\n",
       "4583    6\n",
       "2600    6\n",
       "6000    6\n",
       "5000    5\n",
       "       ..\n",
       "5818    1\n",
       "5819    1\n",
       "5821    1\n",
       "2750    1\n",
       "3691    1\n",
       "Name: ApplicantIncome, Length: 505, dtype: int64"
      ]
     },
     "execution_count": 80,
     "metadata": {},
     "output_type": "execute_result"
    }
   ],
   "source": [
    "df['ApplicantIncome'].value_counts()"
   ]
  },
  {
   "cell_type": "code",
   "execution_count": 81,
   "metadata": {},
   "outputs": [
    {
     "data": {
      "text/plain": [
       "0.0       273\n",
       "1666.0      5\n",
       "2083.0      5\n",
       "2500.0      5\n",
       "1750.0      3\n",
       "         ... \n",
       "7166.0      1\n",
       "2138.0      1\n",
       "2166.0      1\n",
       "3541.0      1\n",
       "3021.0      1\n",
       "Name: CoapplicantIncome, Length: 287, dtype: int64"
      ]
     },
     "execution_count": 81,
     "metadata": {},
     "output_type": "execute_result"
    }
   ],
   "source": [
    "df['CoapplicantIncome'].value_counts()"
   ]
  },
  {
   "cell_type": "code",
   "execution_count": 82,
   "metadata": {},
   "outputs": [
    {
     "data": {
      "text/plain": [
       "120.0    20\n",
       "110.0    17\n",
       "100.0    15\n",
       "187.0    12\n",
       "160.0    12\n",
       "         ..\n",
       "570.0     1\n",
       "300.0     1\n",
       "376.0     1\n",
       "117.0     1\n",
       "311.0     1\n",
       "Name: LoanAmount, Length: 203, dtype: int64"
      ]
     },
     "execution_count": 82,
     "metadata": {},
     "output_type": "execute_result"
    }
   ],
   "source": [
    "df['LoanAmount'].value_counts()"
   ]
  },
  {
   "cell_type": "code",
   "execution_count": 83,
   "metadata": {},
   "outputs": [
    {
     "data": {
      "text/plain": [
       "360.0    512\n",
       "180.0     44\n",
       "480.0     15\n",
       "300.0     13\n",
       "84.0       4\n",
       "240.0      4\n",
       "120.0      3\n",
       "36.0       2\n",
       "60.0       2\n",
       "12.0       1\n",
       "Name: Loan_Amount_Term, dtype: int64"
      ]
     },
     "execution_count": 83,
     "metadata": {},
     "output_type": "execute_result"
    }
   ],
   "source": [
    "df['Loan_Amount_Term'].value_counts()"
   ]
  },
  {
   "cell_type": "code",
   "execution_count": 84,
   "metadata": {},
   "outputs": [
    {
     "data": {
      "text/plain": [
       "1.0    475\n",
       "0.0     89\n",
       "Name: Credit_History, dtype: int64"
      ]
     },
     "execution_count": 84,
     "metadata": {},
     "output_type": "execute_result"
    }
   ],
   "source": [
    "df['Credit_History'].value_counts()"
   ]
  },
  {
   "cell_type": "code",
   "execution_count": 85,
   "metadata": {},
   "outputs": [
    {
     "data": {
      "text/plain": [
       "Semiurban    233\n",
       "Urban        202\n",
       "Rural        179\n",
       "Name: Property_Area, dtype: int64"
      ]
     },
     "execution_count": 85,
     "metadata": {},
     "output_type": "execute_result"
    }
   ],
   "source": [
    "df['Property_Area'].value_counts()"
   ]
  },
  {
   "cell_type": "code",
   "execution_count": 86,
   "metadata": {},
   "outputs": [],
   "source": [
    "#Filling loan amount , loanamount_term , credit_history nan values with mean value\n",
    "df['LoanAmount'].fillna(df['LoanAmount'].mean(),inplace=True)\n",
    "df['Loan_Amount_Term'].fillna(df['Loan_Amount_Term'].mean(),inplace=True)\n",
    "df['Credit_History'].fillna(df['Credit_History'].max(),inplace=True)"
   ]
  },
  {
   "cell_type": "code",
   "execution_count": 87,
   "metadata": {},
   "outputs": [
    {
     "data": {
      "text/plain": [
       "Loan_ID              0\n",
       "Gender               0\n",
       "Married              0\n",
       "Dependents           0\n",
       "Education            0\n",
       "Self_Employed        0\n",
       "ApplicantIncome      0\n",
       "CoapplicantIncome    0\n",
       "LoanAmount           0\n",
       "Loan_Amount_Term     0\n",
       "Credit_History       0\n",
       "Property_Area        0\n",
       "Loan_Status          0\n",
       "dtype: int64"
      ]
     },
     "execution_count": 87,
     "metadata": {},
     "output_type": "execute_result"
    }
   ],
   "source": [
    "df.isna().sum()"
   ]
  },
  {
   "cell_type": "code",
   "execution_count": 88,
   "metadata": {},
   "outputs": [
    {
     "name": "stdout",
     "output_type": "stream",
     "text": [
      "<class 'pandas.core.frame.DataFrame'>\n",
      "RangeIndex: 614 entries, 0 to 613\n",
      "Data columns (total 13 columns):\n",
      "Loan_ID              614 non-null object\n",
      "Gender               614 non-null object\n",
      "Married              614 non-null object\n",
      "Dependents           614 non-null object\n",
      "Education            614 non-null object\n",
      "Self_Employed        614 non-null object\n",
      "ApplicantIncome      614 non-null int64\n",
      "CoapplicantIncome    614 non-null float64\n",
      "LoanAmount           614 non-null float64\n",
      "Loan_Amount_Term     614 non-null float64\n",
      "Credit_History       614 non-null float64\n",
      "Property_Area        614 non-null object\n",
      "Loan_Status          614 non-null object\n",
      "dtypes: float64(4), int64(1), object(8)\n",
      "memory usage: 43.2+ KB\n"
     ]
    }
   ],
   "source": [
    "df.info()"
   ]
  },
  {
   "cell_type": "code",
   "execution_count": 89,
   "metadata": {},
   "outputs": [],
   "source": [
    "from sklearn.preprocessing import LabelEncoder"
   ]
  },
  {
   "cell_type": "code",
   "execution_count": 90,
   "metadata": {},
   "outputs": [],
   "source": [
    "le = LabelEncoder()"
   ]
  },
  {
   "cell_type": "code",
   "execution_count": 91,
   "metadata": {},
   "outputs": [],
   "source": [
    "df['Gender'] = le.fit_transform(df['Gender'])"
   ]
  },
  {
   "cell_type": "code",
   "execution_count": 92,
   "metadata": {},
   "outputs": [],
   "source": [
    "df['Married'] = le.fit_transform(df['Married'])"
   ]
  },
  {
   "cell_type": "code",
   "execution_count": 93,
   "metadata": {},
   "outputs": [],
   "source": [
    "df['Dependents'] = le.fit_transform(df['Dependents'])"
   ]
  },
  {
   "cell_type": "code",
   "execution_count": 94,
   "metadata": {},
   "outputs": [],
   "source": [
    "df['Self_Employed'] = le.fit_transform(df['Dependents'])"
   ]
  },
  {
   "cell_type": "code",
   "execution_count": 95,
   "metadata": {},
   "outputs": [
    {
     "data": {
      "text/plain": [
       "Loan_ID               object\n",
       "Gender                 int32\n",
       "Married                int32\n",
       "Dependents             int32\n",
       "Education             object\n",
       "Self_Employed          int32\n",
       "ApplicantIncome        int64\n",
       "CoapplicantIncome    float64\n",
       "LoanAmount           float64\n",
       "Loan_Amount_Term     float64\n",
       "Credit_History       float64\n",
       "Property_Area         object\n",
       "Loan_Status           object\n",
       "dtype: object"
      ]
     },
     "execution_count": 95,
     "metadata": {},
     "output_type": "execute_result"
    }
   ],
   "source": [
    "df.dtypes"
   ]
  },
  {
   "cell_type": "code",
   "execution_count": 96,
   "metadata": {},
   "outputs": [],
   "source": [
    "df['Education'] = le.fit_transform(df['Education'])"
   ]
  },
  {
   "cell_type": "code",
   "execution_count": 97,
   "metadata": {},
   "outputs": [],
   "source": [
    "df['Property_Area'] = le.fit_transform(df['Property_Area'])"
   ]
  },
  {
   "cell_type": "code",
   "execution_count": 98,
   "metadata": {},
   "outputs": [],
   "source": [
    "df['Loan_Status'] = le.fit_transform(df['Loan_Status'])"
   ]
  },
  {
   "cell_type": "code",
   "execution_count": 99,
   "metadata": {},
   "outputs": [
    {
     "data": {
      "text/html": [
       "<div>\n",
       "<style scoped>\n",
       "    .dataframe tbody tr th:only-of-type {\n",
       "        vertical-align: middle;\n",
       "    }\n",
       "\n",
       "    .dataframe tbody tr th {\n",
       "        vertical-align: top;\n",
       "    }\n",
       "\n",
       "    .dataframe thead th {\n",
       "        text-align: right;\n",
       "    }\n",
       "</style>\n",
       "<table border=\"1\" class=\"dataframe\">\n",
       "  <thead>\n",
       "    <tr style=\"text-align: right;\">\n",
       "      <th></th>\n",
       "      <th>Loan_ID</th>\n",
       "      <th>Gender</th>\n",
       "      <th>Married</th>\n",
       "      <th>Dependents</th>\n",
       "      <th>Education</th>\n",
       "      <th>Self_Employed</th>\n",
       "      <th>ApplicantIncome</th>\n",
       "      <th>CoapplicantIncome</th>\n",
       "      <th>LoanAmount</th>\n",
       "      <th>Loan_Amount_Term</th>\n",
       "      <th>Credit_History</th>\n",
       "      <th>Property_Area</th>\n",
       "      <th>Loan_Status</th>\n",
       "    </tr>\n",
       "  </thead>\n",
       "  <tbody>\n",
       "    <tr>\n",
       "      <th>0</th>\n",
       "      <td>LP001002</td>\n",
       "      <td>1</td>\n",
       "      <td>0</td>\n",
       "      <td>0</td>\n",
       "      <td>0</td>\n",
       "      <td>0</td>\n",
       "      <td>5849</td>\n",
       "      <td>0.0</td>\n",
       "      <td>146.412162</td>\n",
       "      <td>360.0</td>\n",
       "      <td>1.0</td>\n",
       "      <td>2</td>\n",
       "      <td>1</td>\n",
       "    </tr>\n",
       "    <tr>\n",
       "      <th>1</th>\n",
       "      <td>LP001003</td>\n",
       "      <td>1</td>\n",
       "      <td>1</td>\n",
       "      <td>1</td>\n",
       "      <td>0</td>\n",
       "      <td>1</td>\n",
       "      <td>4583</td>\n",
       "      <td>1508.0</td>\n",
       "      <td>128.000000</td>\n",
       "      <td>360.0</td>\n",
       "      <td>1.0</td>\n",
       "      <td>0</td>\n",
       "      <td>0</td>\n",
       "    </tr>\n",
       "    <tr>\n",
       "      <th>2</th>\n",
       "      <td>LP001005</td>\n",
       "      <td>1</td>\n",
       "      <td>1</td>\n",
       "      <td>0</td>\n",
       "      <td>0</td>\n",
       "      <td>0</td>\n",
       "      <td>3000</td>\n",
       "      <td>0.0</td>\n",
       "      <td>66.000000</td>\n",
       "      <td>360.0</td>\n",
       "      <td>1.0</td>\n",
       "      <td>2</td>\n",
       "      <td>1</td>\n",
       "    </tr>\n",
       "    <tr>\n",
       "      <th>3</th>\n",
       "      <td>LP001006</td>\n",
       "      <td>1</td>\n",
       "      <td>1</td>\n",
       "      <td>0</td>\n",
       "      <td>1</td>\n",
       "      <td>0</td>\n",
       "      <td>2583</td>\n",
       "      <td>2358.0</td>\n",
       "      <td>120.000000</td>\n",
       "      <td>360.0</td>\n",
       "      <td>1.0</td>\n",
       "      <td>2</td>\n",
       "      <td>1</td>\n",
       "    </tr>\n",
       "    <tr>\n",
       "      <th>4</th>\n",
       "      <td>LP001008</td>\n",
       "      <td>1</td>\n",
       "      <td>0</td>\n",
       "      <td>0</td>\n",
       "      <td>0</td>\n",
       "      <td>0</td>\n",
       "      <td>6000</td>\n",
       "      <td>0.0</td>\n",
       "      <td>141.000000</td>\n",
       "      <td>360.0</td>\n",
       "      <td>1.0</td>\n",
       "      <td>2</td>\n",
       "      <td>1</td>\n",
       "    </tr>\n",
       "  </tbody>\n",
       "</table>\n",
       "</div>"
      ],
      "text/plain": [
       "    Loan_ID  Gender  Married  Dependents  Education  Self_Employed  \\\n",
       "0  LP001002       1        0           0          0              0   \n",
       "1  LP001003       1        1           1          0              1   \n",
       "2  LP001005       1        1           0          0              0   \n",
       "3  LP001006       1        1           0          1              0   \n",
       "4  LP001008       1        0           0          0              0   \n",
       "\n",
       "   ApplicantIncome  CoapplicantIncome  LoanAmount  Loan_Amount_Term  \\\n",
       "0             5849                0.0  146.412162             360.0   \n",
       "1             4583             1508.0  128.000000             360.0   \n",
       "2             3000                0.0   66.000000             360.0   \n",
       "3             2583             2358.0  120.000000             360.0   \n",
       "4             6000                0.0  141.000000             360.0   \n",
       "\n",
       "   Credit_History  Property_Area  Loan_Status  \n",
       "0             1.0              2            1  \n",
       "1             1.0              0            0  \n",
       "2             1.0              2            1  \n",
       "3             1.0              2            1  \n",
       "4             1.0              2            1  "
      ]
     },
     "execution_count": 99,
     "metadata": {},
     "output_type": "execute_result"
    }
   ],
   "source": [
    "df.head()"
   ]
  },
  {
   "cell_type": "code",
   "execution_count": 100,
   "metadata": {},
   "outputs": [
    {
     "data": {
      "text/html": [
       "<style  type=\"text/css\" >\n",
       "    #T_436d5bcc_6ead_11ea_9285_9828a61bd4b6row0_col0 {\n",
       "            background-color:  #b40426;\n",
       "            color:  #f1f1f1;\n",
       "        }    #T_436d5bcc_6ead_11ea_9285_9828a61bd4b6row0_col1 {\n",
       "            background-color:  #c0d4f5;\n",
       "            color:  #000000;\n",
       "        }    #T_436d5bcc_6ead_11ea_9285_9828a61bd4b6row0_col2 {\n",
       "            background-color:  #85a8fc;\n",
       "            color:  #000000;\n",
       "        }    #T_436d5bcc_6ead_11ea_9285_9828a61bd4b6row0_col3 {\n",
       "            background-color:  #7a9df8;\n",
       "            color:  #000000;\n",
       "        }    #T_436d5bcc_6ead_11ea_9285_9828a61bd4b6row0_col4 {\n",
       "            background-color:  #85a8fc;\n",
       "            color:  #000000;\n",
       "        }    #T_436d5bcc_6ead_11ea_9285_9828a61bd4b6row0_col5 {\n",
       "            background-color:  #6485ec;\n",
       "            color:  #000000;\n",
       "        }    #T_436d5bcc_6ead_11ea_9285_9828a61bd4b6row0_col6 {\n",
       "            background-color:  #7396f5;\n",
       "            color:  #000000;\n",
       "        }    #T_436d5bcc_6ead_11ea_9285_9828a61bd4b6row0_col7 {\n",
       "            background-color:  #7a9df8;\n",
       "            color:  #000000;\n",
       "        }    #T_436d5bcc_6ead_11ea_9285_9828a61bd4b6row0_col8 {\n",
       "            background-color:  #4358cb;\n",
       "            color:  #f1f1f1;\n",
       "        }    #T_436d5bcc_6ead_11ea_9285_9828a61bd4b6row0_col9 {\n",
       "            background-color:  #5572df;\n",
       "            color:  #000000;\n",
       "        }    #T_436d5bcc_6ead_11ea_9285_9828a61bd4b6row0_col10 {\n",
       "            background-color:  #4b64d5;\n",
       "            color:  #f1f1f1;\n",
       "        }    #T_436d5bcc_6ead_11ea_9285_9828a61bd4b6row0_col11 {\n",
       "            background-color:  #5a78e4;\n",
       "            color:  #000000;\n",
       "        }    #T_436d5bcc_6ead_11ea_9285_9828a61bd4b6row1_col0 {\n",
       "            background-color:  #bad0f8;\n",
       "            color:  #000000;\n",
       "        }    #T_436d5bcc_6ead_11ea_9285_9828a61bd4b6row1_col1 {\n",
       "            background-color:  #b40426;\n",
       "            color:  #f1f1f1;\n",
       "        }    #T_436d5bcc_6ead_11ea_9285_9828a61bd4b6row1_col2 {\n",
       "            background-color:  #c0d4f5;\n",
       "            color:  #000000;\n",
       "        }    #T_436d5bcc_6ead_11ea_9285_9828a61bd4b6row1_col3 {\n",
       "            background-color:  #6c8ff1;\n",
       "            color:  #000000;\n",
       "        }    #T_436d5bcc_6ead_11ea_9285_9828a61bd4b6row1_col4 {\n",
       "            background-color:  #c0d4f5;\n",
       "            color:  #000000;\n",
       "        }    #T_436d5bcc_6ead_11ea_9285_9828a61bd4b6row1_col5 {\n",
       "            background-color:  #6f92f3;\n",
       "            color:  #000000;\n",
       "        }    #T_436d5bcc_6ead_11ea_9285_9828a61bd4b6row1_col6 {\n",
       "            background-color:  #7396f5;\n",
       "            color:  #000000;\n",
       "        }    #T_436d5bcc_6ead_11ea_9285_9828a61bd4b6row1_col7 {\n",
       "            background-color:  #93b5fe;\n",
       "            color:  #000000;\n",
       "        }    #T_436d5bcc_6ead_11ea_9285_9828a61bd4b6row1_col8 {\n",
       "            background-color:  #3b4cc0;\n",
       "            color:  #f1f1f1;\n",
       "        }    #T_436d5bcc_6ead_11ea_9285_9828a61bd4b6row1_col9 {\n",
       "            background-color:  #516ddb;\n",
       "            color:  #000000;\n",
       "        }    #T_436d5bcc_6ead_11ea_9285_9828a61bd4b6row1_col10 {\n",
       "            background-color:  #506bda;\n",
       "            color:  #000000;\n",
       "        }    #T_436d5bcc_6ead_11ea_9285_9828a61bd4b6row1_col11 {\n",
       "            background-color:  #6c8ff1;\n",
       "            color:  #000000;\n",
       "        }    #T_436d5bcc_6ead_11ea_9285_9828a61bd4b6row2_col0 {\n",
       "            background-color:  #7da0f9;\n",
       "            color:  #000000;\n",
       "        }    #T_436d5bcc_6ead_11ea_9285_9828a61bd4b6row2_col1 {\n",
       "            background-color:  #c1d4f4;\n",
       "            color:  #000000;\n",
       "        }    #T_436d5bcc_6ead_11ea_9285_9828a61bd4b6row2_col2 {\n",
       "            background-color:  #b40426;\n",
       "            color:  #f1f1f1;\n",
       "        }    #T_436d5bcc_6ead_11ea_9285_9828a61bd4b6row2_col3 {\n",
       "            background-color:  #779af7;\n",
       "            color:  #000000;\n",
       "        }    #T_436d5bcc_6ead_11ea_9285_9828a61bd4b6row2_col4 {\n",
       "            background-color:  #b40426;\n",
       "            color:  #f1f1f1;\n",
       "        }    #T_436d5bcc_6ead_11ea_9285_9828a61bd4b6row2_col5 {\n",
       "            background-color:  #85a8fc;\n",
       "            color:  #000000;\n",
       "        }    #T_436d5bcc_6ead_11ea_9285_9828a61bd4b6row2_col6 {\n",
       "            background-color:  #6384eb;\n",
       "            color:  #000000;\n",
       "        }    #T_436d5bcc_6ead_11ea_9285_9828a61bd4b6row2_col7 {\n",
       "            background-color:  #98b9ff;\n",
       "            color:  #000000;\n",
       "        }    #T_436d5bcc_6ead_11ea_9285_9828a61bd4b6row2_col8 {\n",
       "            background-color:  #3b4cc0;\n",
       "            color:  #f1f1f1;\n",
       "        }    #T_436d5bcc_6ead_11ea_9285_9828a61bd4b6row2_col9 {\n",
       "            background-color:  #4358cb;\n",
       "            color:  #f1f1f1;\n",
       "        }    #T_436d5bcc_6ead_11ea_9285_9828a61bd4b6row2_col10 {\n",
       "            background-color:  #506bda;\n",
       "            color:  #000000;\n",
       "        }    #T_436d5bcc_6ead_11ea_9285_9828a61bd4b6row2_col11 {\n",
       "            background-color:  #5572df;\n",
       "            color:  #000000;\n",
       "        }    #T_436d5bcc_6ead_11ea_9285_9828a61bd4b6row3_col0 {\n",
       "            background-color:  #6180e9;\n",
       "            color:  #000000;\n",
       "        }    #T_436d5bcc_6ead_11ea_9285_9828a61bd4b6row3_col1 {\n",
       "            background-color:  #5d7ce6;\n",
       "            color:  #000000;\n",
       "        }    #T_436d5bcc_6ead_11ea_9285_9828a61bd4b6row3_col2 {\n",
       "            background-color:  #6788ee;\n",
       "            color:  #000000;\n",
       "        }    #T_436d5bcc_6ead_11ea_9285_9828a61bd4b6row3_col3 {\n",
       "            background-color:  #b40426;\n",
       "            color:  #f1f1f1;\n",
       "        }    #T_436d5bcc_6ead_11ea_9285_9828a61bd4b6row3_col4 {\n",
       "            background-color:  #6788ee;\n",
       "            color:  #000000;\n",
       "        }    #T_436d5bcc_6ead_11ea_9285_9828a61bd4b6row3_col5 {\n",
       "            background-color:  #3b4cc0;\n",
       "            color:  #f1f1f1;\n",
       "        }    #T_436d5bcc_6ead_11ea_9285_9828a61bd4b6row3_col6 {\n",
       "            background-color:  #4961d2;\n",
       "            color:  #f1f1f1;\n",
       "        }    #T_436d5bcc_6ead_11ea_9285_9828a61bd4b6row3_col7 {\n",
       "            background-color:  #3b4cc0;\n",
       "            color:  #f1f1f1;\n",
       "        }    #T_436d5bcc_6ead_11ea_9285_9828a61bd4b6row3_col8 {\n",
       "            background-color:  #4257c9;\n",
       "            color:  #f1f1f1;\n",
       "        }    #T_436d5bcc_6ead_11ea_9285_9828a61bd4b6row3_col9 {\n",
       "            background-color:  #3b4cc0;\n",
       "            color:  #f1f1f1;\n",
       "        }    #T_436d5bcc_6ead_11ea_9285_9828a61bd4b6row3_col10 {\n",
       "            background-color:  #3d50c3;\n",
       "            color:  #f1f1f1;\n",
       "        }    #T_436d5bcc_6ead_11ea_9285_9828a61bd4b6row3_col11 {\n",
       "            background-color:  #3b4cc0;\n",
       "            color:  #f1f1f1;\n",
       "        }    #T_436d5bcc_6ead_11ea_9285_9828a61bd4b6row4_col0 {\n",
       "            background-color:  #7da0f9;\n",
       "            color:  #000000;\n",
       "        }    #T_436d5bcc_6ead_11ea_9285_9828a61bd4b6row4_col1 {\n",
       "            background-color:  #c1d4f4;\n",
       "            color:  #000000;\n",
       "        }    #T_436d5bcc_6ead_11ea_9285_9828a61bd4b6row4_col2 {\n",
       "            background-color:  #b40426;\n",
       "            color:  #f1f1f1;\n",
       "        }    #T_436d5bcc_6ead_11ea_9285_9828a61bd4b6row4_col3 {\n",
       "            background-color:  #779af7;\n",
       "            color:  #000000;\n",
       "        }    #T_436d5bcc_6ead_11ea_9285_9828a61bd4b6row4_col4 {\n",
       "            background-color:  #b40426;\n",
       "            color:  #f1f1f1;\n",
       "        }    #T_436d5bcc_6ead_11ea_9285_9828a61bd4b6row4_col5 {\n",
       "            background-color:  #85a8fc;\n",
       "            color:  #000000;\n",
       "        }    #T_436d5bcc_6ead_11ea_9285_9828a61bd4b6row4_col6 {\n",
       "            background-color:  #6384eb;\n",
       "            color:  #000000;\n",
       "        }    #T_436d5bcc_6ead_11ea_9285_9828a61bd4b6row4_col7 {\n",
       "            background-color:  #98b9ff;\n",
       "            color:  #000000;\n",
       "        }    #T_436d5bcc_6ead_11ea_9285_9828a61bd4b6row4_col8 {\n",
       "            background-color:  #3b4cc0;\n",
       "            color:  #f1f1f1;\n",
       "        }    #T_436d5bcc_6ead_11ea_9285_9828a61bd4b6row4_col9 {\n",
       "            background-color:  #4358cb;\n",
       "            color:  #f1f1f1;\n",
       "        }    #T_436d5bcc_6ead_11ea_9285_9828a61bd4b6row4_col10 {\n",
       "            background-color:  #506bda;\n",
       "            color:  #000000;\n",
       "        }    #T_436d5bcc_6ead_11ea_9285_9828a61bd4b6row4_col11 {\n",
       "            background-color:  #5572df;\n",
       "            color:  #000000;\n",
       "        }    #T_436d5bcc_6ead_11ea_9285_9828a61bd4b6row5_col0 {\n",
       "            background-color:  #536edd;\n",
       "            color:  #000000;\n",
       "        }    #T_436d5bcc_6ead_11ea_9285_9828a61bd4b6row5_col1 {\n",
       "            background-color:  #6687ed;\n",
       "            color:  #000000;\n",
       "        }    #T_436d5bcc_6ead_11ea_9285_9828a61bd4b6row5_col2 {\n",
       "            background-color:  #7a9df8;\n",
       "            color:  #000000;\n",
       "        }    #T_436d5bcc_6ead_11ea_9285_9828a61bd4b6row5_col3 {\n",
       "            background-color:  #4055c8;\n",
       "            color:  #f1f1f1;\n",
       "        }    #T_436d5bcc_6ead_11ea_9285_9828a61bd4b6row5_col4 {\n",
       "            background-color:  #7a9df8;\n",
       "            color:  #000000;\n",
       "        }    #T_436d5bcc_6ead_11ea_9285_9828a61bd4b6row5_col5 {\n",
       "            background-color:  #b40426;\n",
       "            color:  #f1f1f1;\n",
       "        }    #T_436d5bcc_6ead_11ea_9285_9828a61bd4b6row5_col6 {\n",
       "            background-color:  #3b4cc0;\n",
       "            color:  #f1f1f1;\n",
       "        }    #T_436d5bcc_6ead_11ea_9285_9828a61bd4b6row5_col7 {\n",
       "            background-color:  #f5c4ac;\n",
       "            color:  #000000;\n",
       "        }    #T_436d5bcc_6ead_11ea_9285_9828a61bd4b6row5_col8 {\n",
       "            background-color:  #4a63d3;\n",
       "            color:  #f1f1f1;\n",
       "        }    #T_436d5bcc_6ead_11ea_9285_9828a61bd4b6row5_col9 {\n",
       "            background-color:  #4a63d3;\n",
       "            color:  #f1f1f1;\n",
       "        }    #T_436d5bcc_6ead_11ea_9285_9828a61bd4b6row5_col10 {\n",
       "            background-color:  #4e68d8;\n",
       "            color:  #000000;\n",
       "        }    #T_436d5bcc_6ead_11ea_9285_9828a61bd4b6row5_col11 {\n",
       "            background-color:  #516ddb;\n",
       "            color:  #000000;\n",
       "        }    #T_436d5bcc_6ead_11ea_9285_9828a61bd4b6row6_col0 {\n",
       "            background-color:  #6788ee;\n",
       "            color:  #000000;\n",
       "        }    #T_436d5bcc_6ead_11ea_9285_9828a61bd4b6row6_col1 {\n",
       "            background-color:  #6f92f3;\n",
       "            color:  #000000;\n",
       "        }    #T_436d5bcc_6ead_11ea_9285_9828a61bd4b6row6_col2 {\n",
       "            background-color:  #5f7fe8;\n",
       "            color:  #000000;\n",
       "        }    #T_436d5bcc_6ead_11ea_9285_9828a61bd4b6row6_col3 {\n",
       "            background-color:  #5572df;\n",
       "            color:  #000000;\n",
       "        }    #T_436d5bcc_6ead_11ea_9285_9828a61bd4b6row6_col4 {\n",
       "            background-color:  #5f7fe8;\n",
       "            color:  #000000;\n",
       "        }    #T_436d5bcc_6ead_11ea_9285_9828a61bd4b6row6_col5 {\n",
       "            background-color:  #4055c8;\n",
       "            color:  #f1f1f1;\n",
       "        }    #T_436d5bcc_6ead_11ea_9285_9828a61bd4b6row6_col6 {\n",
       "            background-color:  #b40426;\n",
       "            color:  #f1f1f1;\n",
       "        }    #T_436d5bcc_6ead_11ea_9285_9828a61bd4b6row6_col7 {\n",
       "            background-color:  #9fbfff;\n",
       "            color:  #000000;\n",
       "        }    #T_436d5bcc_6ead_11ea_9285_9828a61bd4b6row6_col8 {\n",
       "            background-color:  #465ecf;\n",
       "            color:  #f1f1f1;\n",
       "        }    #T_436d5bcc_6ead_11ea_9285_9828a61bd4b6row6_col9 {\n",
       "            background-color:  #536edd;\n",
       "            color:  #000000;\n",
       "        }    #T_436d5bcc_6ead_11ea_9285_9828a61bd4b6row6_col10 {\n",
       "            background-color:  #536edd;\n",
       "            color:  #000000;\n",
       "        }    #T_436d5bcc_6ead_11ea_9285_9828a61bd4b6row6_col11 {\n",
       "            background-color:  #4257c9;\n",
       "            color:  #f1f1f1;\n",
       "        }    #T_436d5bcc_6ead_11ea_9285_9828a61bd4b6row7_col0 {\n",
       "            background-color:  #6282ea;\n",
       "            color:  #000000;\n",
       "        }    #T_436d5bcc_6ead_11ea_9285_9828a61bd4b6row7_col1 {\n",
       "            background-color:  #84a7fc;\n",
       "            color:  #000000;\n",
       "        }    #T_436d5bcc_6ead_11ea_9285_9828a61bd4b6row7_col2 {\n",
       "            background-color:  #89acfd;\n",
       "            color:  #000000;\n",
       "        }    #T_436d5bcc_6ead_11ea_9285_9828a61bd4b6row7_col3 {\n",
       "            background-color:  #3b4cc0;\n",
       "            color:  #f1f1f1;\n",
       "        }    #T_436d5bcc_6ead_11ea_9285_9828a61bd4b6row7_col4 {\n",
       "            background-color:  #89acfd;\n",
       "            color:  #000000;\n",
       "        }    #T_436d5bcc_6ead_11ea_9285_9828a61bd4b6row7_col5 {\n",
       "            background-color:  #f4c6af;\n",
       "            color:  #000000;\n",
       "        }    #T_436d5bcc_6ead_11ea_9285_9828a61bd4b6row7_col6 {\n",
       "            background-color:  #94b6ff;\n",
       "            color:  #000000;\n",
       "        }    #T_436d5bcc_6ead_11ea_9285_9828a61bd4b6row7_col7 {\n",
       "            background-color:  #b40426;\n",
       "            color:  #f1f1f1;\n",
       "        }    #T_436d5bcc_6ead_11ea_9285_9828a61bd4b6row7_col8 {\n",
       "            background-color:  #6282ea;\n",
       "            color:  #000000;\n",
       "        }    #T_436d5bcc_6ead_11ea_9285_9828a61bd4b6row7_col9 {\n",
       "            background-color:  #4f69d9;\n",
       "            color:  #000000;\n",
       "        }    #T_436d5bcc_6ead_11ea_9285_9828a61bd4b6row7_col10 {\n",
       "            background-color:  #4358cb;\n",
       "            color:  #f1f1f1;\n",
       "        }    #T_436d5bcc_6ead_11ea_9285_9828a61bd4b6row7_col11 {\n",
       "            background-color:  #485fd1;\n",
       "            color:  #f1f1f1;\n",
       "        }    #T_436d5bcc_6ead_11ea_9285_9828a61bd4b6row8_col0 {\n",
       "            background-color:  #3b4cc0;\n",
       "            color:  #f1f1f1;\n",
       "        }    #T_436d5bcc_6ead_11ea_9285_9828a61bd4b6row8_col1 {\n",
       "            background-color:  #3b4cc0;\n",
       "            color:  #f1f1f1;\n",
       "        }    #T_436d5bcc_6ead_11ea_9285_9828a61bd4b6row8_col2 {\n",
       "            background-color:  #3b4cc0;\n",
       "            color:  #f1f1f1;\n",
       "        }    #T_436d5bcc_6ead_11ea_9285_9828a61bd4b6row8_col3 {\n",
       "            background-color:  #516ddb;\n",
       "            color:  #000000;\n",
       "        }    #T_436d5bcc_6ead_11ea_9285_9828a61bd4b6row8_col4 {\n",
       "            background-color:  #3b4cc0;\n",
       "            color:  #f1f1f1;\n",
       "        }    #T_436d5bcc_6ead_11ea_9285_9828a61bd4b6row8_col5 {\n",
       "            background-color:  #5470de;\n",
       "            color:  #000000;\n",
       "        }    #T_436d5bcc_6ead_11ea_9285_9828a61bd4b6row8_col6 {\n",
       "            background-color:  #4a63d3;\n",
       "            color:  #f1f1f1;\n",
       "        }    #T_436d5bcc_6ead_11ea_9285_9828a61bd4b6row8_col7 {\n",
       "            background-color:  #7396f5;\n",
       "            color:  #000000;\n",
       "        }    #T_436d5bcc_6ead_11ea_9285_9828a61bd4b6row8_col8 {\n",
       "            background-color:  #b40426;\n",
       "            color:  #f1f1f1;\n",
       "        }    #T_436d5bcc_6ead_11ea_9285_9828a61bd4b6row8_col9 {\n",
       "            background-color:  #4f69d9;\n",
       "            color:  #000000;\n",
       "        }    #T_436d5bcc_6ead_11ea_9285_9828a61bd4b6row8_col10 {\n",
       "            background-color:  #3b4cc0;\n",
       "            color:  #f1f1f1;\n",
       "        }    #T_436d5bcc_6ead_11ea_9285_9828a61bd4b6row8_col11 {\n",
       "            background-color:  #4c66d6;\n",
       "            color:  #000000;\n",
       "        }    #T_436d5bcc_6ead_11ea_9285_9828a61bd4b6row9_col0 {\n",
       "            background-color:  #5470de;\n",
       "            color:  #000000;\n",
       "        }    #T_436d5bcc_6ead_11ea_9285_9828a61bd4b6row9_col1 {\n",
       "            background-color:  #5977e3;\n",
       "            color:  #000000;\n",
       "        }    #T_436d5bcc_6ead_11ea_9285_9828a61bd4b6row9_col2 {\n",
       "            background-color:  #4b64d5;\n",
       "            color:  #f1f1f1;\n",
       "        }    #T_436d5bcc_6ead_11ea_9285_9828a61bd4b6row9_col3 {\n",
       "            background-color:  #536edd;\n",
       "            color:  #000000;\n",
       "        }    #T_436d5bcc_6ead_11ea_9285_9828a61bd4b6row9_col4 {\n",
       "            background-color:  #4b64d5;\n",
       "            color:  #f1f1f1;\n",
       "        }    #T_436d5bcc_6ead_11ea_9285_9828a61bd4b6row9_col5 {\n",
       "            background-color:  #5b7ae5;\n",
       "            color:  #000000;\n",
       "        }    #T_436d5bcc_6ead_11ea_9285_9828a61bd4b6row9_col6 {\n",
       "            background-color:  #5e7de7;\n",
       "            color:  #000000;\n",
       "        }    #T_436d5bcc_6ead_11ea_9285_9828a61bd4b6row9_col7 {\n",
       "            background-color:  #6788ee;\n",
       "            color:  #000000;\n",
       "        }    #T_436d5bcc_6ead_11ea_9285_9828a61bd4b6row9_col8 {\n",
       "            background-color:  #5875e1;\n",
       "            color:  #000000;\n",
       "        }    #T_436d5bcc_6ead_11ea_9285_9828a61bd4b6row9_col9 {\n",
       "            background-color:  #b40426;\n",
       "            color:  #f1f1f1;\n",
       "        }    #T_436d5bcc_6ead_11ea_9285_9828a61bd4b6row9_col10 {\n",
       "            background-color:  #506bda;\n",
       "            color:  #000000;\n",
       "        }    #T_436d5bcc_6ead_11ea_9285_9828a61bd4b6row9_col11 {\n",
       "            background-color:  #eed0c0;\n",
       "            color:  #000000;\n",
       "        }    #T_436d5bcc_6ead_11ea_9285_9828a61bd4b6row10_col0 {\n",
       "            background-color:  #4961d2;\n",
       "            color:  #f1f1f1;\n",
       "        }    #T_436d5bcc_6ead_11ea_9285_9828a61bd4b6row10_col1 {\n",
       "            background-color:  #5875e1;\n",
       "            color:  #000000;\n",
       "        }    #T_436d5bcc_6ead_11ea_9285_9828a61bd4b6row10_col2 {\n",
       "            background-color:  #5673e0;\n",
       "            color:  #000000;\n",
       "        }    #T_436d5bcc_6ead_11ea_9285_9828a61bd4b6row10_col3 {\n",
       "            background-color:  #5572df;\n",
       "            color:  #000000;\n",
       "        }    #T_436d5bcc_6ead_11ea_9285_9828a61bd4b6row10_col4 {\n",
       "            background-color:  #5673e0;\n",
       "            color:  #000000;\n",
       "        }    #T_436d5bcc_6ead_11ea_9285_9828a61bd4b6row10_col5 {\n",
       "            background-color:  #5e7de7;\n",
       "            color:  #000000;\n",
       "        }    #T_436d5bcc_6ead_11ea_9285_9828a61bd4b6row10_col6 {\n",
       "            background-color:  #5e7de7;\n",
       "            color:  #000000;\n",
       "        }    #T_436d5bcc_6ead_11ea_9285_9828a61bd4b6row10_col7 {\n",
       "            background-color:  #5a78e4;\n",
       "            color:  #000000;\n",
       "        }    #T_436d5bcc_6ead_11ea_9285_9828a61bd4b6row10_col8 {\n",
       "            background-color:  #4055c8;\n",
       "            color:  #f1f1f1;\n",
       "        }    #T_436d5bcc_6ead_11ea_9285_9828a61bd4b6row10_col9 {\n",
       "            background-color:  #506bda;\n",
       "            color:  #000000;\n",
       "        }    #T_436d5bcc_6ead_11ea_9285_9828a61bd4b6row10_col10 {\n",
       "            background-color:  #b40426;\n",
       "            color:  #f1f1f1;\n",
       "        }    #T_436d5bcc_6ead_11ea_9285_9828a61bd4b6row10_col11 {\n",
       "            background-color:  #5b7ae5;\n",
       "            color:  #000000;\n",
       "        }    #T_436d5bcc_6ead_11ea_9285_9828a61bd4b6row11_col0 {\n",
       "            background-color:  #5572df;\n",
       "            color:  #000000;\n",
       "        }    #T_436d5bcc_6ead_11ea_9285_9828a61bd4b6row11_col1 {\n",
       "            background-color:  #7093f3;\n",
       "            color:  #000000;\n",
       "        }    #T_436d5bcc_6ead_11ea_9285_9828a61bd4b6row11_col2 {\n",
       "            background-color:  #5977e3;\n",
       "            color:  #000000;\n",
       "        }    #T_436d5bcc_6ead_11ea_9285_9828a61bd4b6row11_col3 {\n",
       "            background-color:  #4f69d9;\n",
       "            color:  #000000;\n",
       "        }    #T_436d5bcc_6ead_11ea_9285_9828a61bd4b6row11_col4 {\n",
       "            background-color:  #5977e3;\n",
       "            color:  #000000;\n",
       "        }    #T_436d5bcc_6ead_11ea_9285_9828a61bd4b6row11_col5 {\n",
       "            background-color:  #5f7fe8;\n",
       "            color:  #000000;\n",
       "        }    #T_436d5bcc_6ead_11ea_9285_9828a61bd4b6row11_col6 {\n",
       "            background-color:  #4a63d3;\n",
       "            color:  #f1f1f1;\n",
       "        }    #T_436d5bcc_6ead_11ea_9285_9828a61bd4b6row11_col7 {\n",
       "            background-color:  #5d7ce6;\n",
       "            color:  #000000;\n",
       "        }    #T_436d5bcc_6ead_11ea_9285_9828a61bd4b6row11_col8 {\n",
       "            background-color:  #516ddb;\n",
       "            color:  #000000;\n",
       "        }    #T_436d5bcc_6ead_11ea_9285_9828a61bd4b6row11_col9 {\n",
       "            background-color:  #edd1c2;\n",
       "            color:  #000000;\n",
       "        }    #T_436d5bcc_6ead_11ea_9285_9828a61bd4b6row11_col10 {\n",
       "            background-color:  #5a78e4;\n",
       "            color:  #000000;\n",
       "        }    #T_436d5bcc_6ead_11ea_9285_9828a61bd4b6row11_col11 {\n",
       "            background-color:  #b40426;\n",
       "            color:  #f1f1f1;\n",
       "        }</style><table id=\"T_436d5bcc_6ead_11ea_9285_9828a61bd4b6\" ><thead>    <tr>        <th class=\"blank level0\" ></th>        <th class=\"col_heading level0 col0\" >Gender</th>        <th class=\"col_heading level0 col1\" >Married</th>        <th class=\"col_heading level0 col2\" >Dependents</th>        <th class=\"col_heading level0 col3\" >Education</th>        <th class=\"col_heading level0 col4\" >Self_Employed</th>        <th class=\"col_heading level0 col5\" >ApplicantIncome</th>        <th class=\"col_heading level0 col6\" >CoapplicantIncome</th>        <th class=\"col_heading level0 col7\" >LoanAmount</th>        <th class=\"col_heading level0 col8\" >Loan_Amount_Term</th>        <th class=\"col_heading level0 col9\" >Credit_History</th>        <th class=\"col_heading level0 col10\" >Property_Area</th>        <th class=\"col_heading level0 col11\" >Loan_Status</th>    </tr></thead><tbody>\n",
       "                <tr>\n",
       "                        <th id=\"T_436d5bcc_6ead_11ea_9285_9828a61bd4b6level0_row0\" class=\"row_heading level0 row0\" >Gender</th>\n",
       "                        <td id=\"T_436d5bcc_6ead_11ea_9285_9828a61bd4b6row0_col0\" class=\"data row0 col0\" >1</td>\n",
       "                        <td id=\"T_436d5bcc_6ead_11ea_9285_9828a61bd4b6row0_col1\" class=\"data row0 col1\" >0.339026</td>\n",
       "                        <td id=\"T_436d5bcc_6ead_11ea_9285_9828a61bd4b6row0_col2\" class=\"data row0 col2\" >0.1485</td>\n",
       "                        <td id=\"T_436d5bcc_6ead_11ea_9285_9828a61bd4b6row0_col3\" class=\"data row0 col3\" >0.0614971</td>\n",
       "                        <td id=\"T_436d5bcc_6ead_11ea_9285_9828a61bd4b6row0_col4\" class=\"data row0 col4\" >0.1485</td>\n",
       "                        <td id=\"T_436d5bcc_6ead_11ea_9285_9828a61bd4b6row0_col5\" class=\"data row0 col5\" >0.0139334</td>\n",
       "                        <td id=\"T_436d5bcc_6ead_11ea_9285_9828a61bd4b6row0_col6\" class=\"data row0 col6\" >0.0823161</td>\n",
       "                        <td id=\"T_436d5bcc_6ead_11ea_9285_9828a61bd4b6row0_col7\" class=\"data row0 col7\" >0.0646089</td>\n",
       "                        <td id=\"T_436d5bcc_6ead_11ea_9285_9828a61bd4b6row0_col8\" class=\"data row0 col8\" >-0.0701792</td>\n",
       "                        <td id=\"T_436d5bcc_6ead_11ea_9285_9828a61bd4b6row0_col9\" class=\"data row0 col9\" >0.0216121</td>\n",
       "                        <td id=\"T_436d5bcc_6ead_11ea_9285_9828a61bd4b6row0_col10\" class=\"data row0 col10\" >-0.017054</td>\n",
       "                        <td id=\"T_436d5bcc_6ead_11ea_9285_9828a61bd4b6row0_col11\" class=\"data row0 col11\" >0.0254069</td>\n",
       "            </tr>\n",
       "            <tr>\n",
       "                        <th id=\"T_436d5bcc_6ead_11ea_9285_9828a61bd4b6level0_row1\" class=\"row_heading level0 row1\" >Married</th>\n",
       "                        <td id=\"T_436d5bcc_6ead_11ea_9285_9828a61bd4b6row1_col0\" class=\"data row1 col0\" >0.339026</td>\n",
       "                        <td id=\"T_436d5bcc_6ead_11ea_9285_9828a61bd4b6row1_col1\" class=\"data row1 col1\" >1</td>\n",
       "                        <td id=\"T_436d5bcc_6ead_11ea_9285_9828a61bd4b6row1_col2\" class=\"data row1 col2\" >0.340684</td>\n",
       "                        <td id=\"T_436d5bcc_6ead_11ea_9285_9828a61bd4b6row1_col3\" class=\"data row1 col3\" >0.0176707</td>\n",
       "                        <td id=\"T_436d5bcc_6ead_11ea_9285_9828a61bd4b6row1_col4\" class=\"data row1 col4\" >0.340684</td>\n",
       "                        <td id=\"T_436d5bcc_6ead_11ea_9285_9828a61bd4b6row1_col5\" class=\"data row1 col5\" >0.0501943</td>\n",
       "                        <td id=\"T_436d5bcc_6ead_11ea_9285_9828a61bd4b6row1_col6\" class=\"data row1 col6\" >0.080496</td>\n",
       "                        <td id=\"T_436d5bcc_6ead_11ea_9285_9828a61bd4b6row1_col7\" class=\"data row1 col7\" >0.145643</td>\n",
       "                        <td id=\"T_436d5bcc_6ead_11ea_9285_9828a61bd4b6row1_col8\" class=\"data row1 col8\" >-0.1034</td>\n",
       "                        <td id=\"T_436d5bcc_6ead_11ea_9285_9828a61bd4b6row1_col9\" class=\"data row1 col9\" >0.00668995</td>\n",
       "                        <td id=\"T_436d5bcc_6ead_11ea_9285_9828a61bd4b6row1_col10\" class=\"data row1 col10\" >0.000395334</td>\n",
       "                        <td id=\"T_436d5bcc_6ead_11ea_9285_9828a61bd4b6row1_col11\" class=\"data row1 col11\" >0.0842805</td>\n",
       "            </tr>\n",
       "            <tr>\n",
       "                        <th id=\"T_436d5bcc_6ead_11ea_9285_9828a61bd4b6level0_row2\" class=\"row_heading level0 row2\" >Dependents</th>\n",
       "                        <td id=\"T_436d5bcc_6ead_11ea_9285_9828a61bd4b6row2_col0\" class=\"data row2 col0\" >0.1485</td>\n",
       "                        <td id=\"T_436d5bcc_6ead_11ea_9285_9828a61bd4b6row2_col1\" class=\"data row2 col1\" >0.340684</td>\n",
       "                        <td id=\"T_436d5bcc_6ead_11ea_9285_9828a61bd4b6row2_col2\" class=\"data row2 col2\" >1</td>\n",
       "                        <td id=\"T_436d5bcc_6ead_11ea_9285_9828a61bd4b6row2_col3\" class=\"data row2 col3\" >0.0557517</td>\n",
       "                        <td id=\"T_436d5bcc_6ead_11ea_9285_9828a61bd4b6row2_col4\" class=\"data row2 col4\" >1</td>\n",
       "                        <td id=\"T_436d5bcc_6ead_11ea_9285_9828a61bd4b6row2_col5\" class=\"data row2 col5\" >0.118202</td>\n",
       "                        <td id=\"T_436d5bcc_6ead_11ea_9285_9828a61bd4b6row2_col6\" class=\"data row2 col6\" >0.03043</td>\n",
       "                        <td id=\"T_436d5bcc_6ead_11ea_9285_9828a61bd4b6row2_col7\" class=\"data row2 col7\" >0.163106</td>\n",
       "                        <td id=\"T_436d5bcc_6ead_11ea_9285_9828a61bd4b6row2_col8\" class=\"data row2 col8\" >-0.101054</td>\n",
       "                        <td id=\"T_436d5bcc_6ead_11ea_9285_9828a61bd4b6row2_col9\" class=\"data row2 col9\" >-0.0401598</td>\n",
       "                        <td id=\"T_436d5bcc_6ead_11ea_9285_9828a61bd4b6row2_col10\" class=\"data row2 col10\" >-0.000243946</td>\n",
       "                        <td id=\"T_436d5bcc_6ead_11ea_9285_9828a61bd4b6row2_col11\" class=\"data row2 col11\" >0.0101185</td>\n",
       "            </tr>\n",
       "            <tr>\n",
       "                        <th id=\"T_436d5bcc_6ead_11ea_9285_9828a61bd4b6level0_row3\" class=\"row_heading level0 row3\" >Education</th>\n",
       "                        <td id=\"T_436d5bcc_6ead_11ea_9285_9828a61bd4b6row3_col0\" class=\"data row3 col0\" >0.0614971</td>\n",
       "                        <td id=\"T_436d5bcc_6ead_11ea_9285_9828a61bd4b6row3_col1\" class=\"data row3 col1\" >0.0176707</td>\n",
       "                        <td id=\"T_436d5bcc_6ead_11ea_9285_9828a61bd4b6row3_col2\" class=\"data row3 col2\" >0.0557517</td>\n",
       "                        <td id=\"T_436d5bcc_6ead_11ea_9285_9828a61bd4b6row3_col3\" class=\"data row3 col3\" >1</td>\n",
       "                        <td id=\"T_436d5bcc_6ead_11ea_9285_9828a61bd4b6row3_col4\" class=\"data row3 col4\" >0.0557517</td>\n",
       "                        <td id=\"T_436d5bcc_6ead_11ea_9285_9828a61bd4b6row3_col5\" class=\"data row3 col5\" >-0.14076</td>\n",
       "                        <td id=\"T_436d5bcc_6ead_11ea_9285_9828a61bd4b6row3_col6\" class=\"data row3 col6\" >-0.0622898</td>\n",
       "                        <td id=\"T_436d5bcc_6ead_11ea_9285_9828a61bd4b6row3_col7\" class=\"data row3 col7\" >-0.166998</td>\n",
       "                        <td id=\"T_436d5bcc_6ead_11ea_9285_9828a61bd4b6row3_col8\" class=\"data row3 col8\" >-0.0772416</td>\n",
       "                        <td id=\"T_436d5bcc_6ead_11ea_9285_9828a61bd4b6row3_col9\" class=\"data row3 col9\" >-0.0736578</td>\n",
       "                        <td id=\"T_436d5bcc_6ead_11ea_9285_9828a61bd4b6row3_col10\" class=\"data row3 col10\" >-0.0652433</td>\n",
       "                        <td id=\"T_436d5bcc_6ead_11ea_9285_9828a61bd4b6row3_col11\" class=\"data row3 col11\" >-0.0858839</td>\n",
       "            </tr>\n",
       "            <tr>\n",
       "                        <th id=\"T_436d5bcc_6ead_11ea_9285_9828a61bd4b6level0_row4\" class=\"row_heading level0 row4\" >Self_Employed</th>\n",
       "                        <td id=\"T_436d5bcc_6ead_11ea_9285_9828a61bd4b6row4_col0\" class=\"data row4 col0\" >0.1485</td>\n",
       "                        <td id=\"T_436d5bcc_6ead_11ea_9285_9828a61bd4b6row4_col1\" class=\"data row4 col1\" >0.340684</td>\n",
       "                        <td id=\"T_436d5bcc_6ead_11ea_9285_9828a61bd4b6row4_col2\" class=\"data row4 col2\" >1</td>\n",
       "                        <td id=\"T_436d5bcc_6ead_11ea_9285_9828a61bd4b6row4_col3\" class=\"data row4 col3\" >0.0557517</td>\n",
       "                        <td id=\"T_436d5bcc_6ead_11ea_9285_9828a61bd4b6row4_col4\" class=\"data row4 col4\" >1</td>\n",
       "                        <td id=\"T_436d5bcc_6ead_11ea_9285_9828a61bd4b6row4_col5\" class=\"data row4 col5\" >0.118202</td>\n",
       "                        <td id=\"T_436d5bcc_6ead_11ea_9285_9828a61bd4b6row4_col6\" class=\"data row4 col6\" >0.03043</td>\n",
       "                        <td id=\"T_436d5bcc_6ead_11ea_9285_9828a61bd4b6row4_col7\" class=\"data row4 col7\" >0.163106</td>\n",
       "                        <td id=\"T_436d5bcc_6ead_11ea_9285_9828a61bd4b6row4_col8\" class=\"data row4 col8\" >-0.101054</td>\n",
       "                        <td id=\"T_436d5bcc_6ead_11ea_9285_9828a61bd4b6row4_col9\" class=\"data row4 col9\" >-0.0401598</td>\n",
       "                        <td id=\"T_436d5bcc_6ead_11ea_9285_9828a61bd4b6row4_col10\" class=\"data row4 col10\" >-0.000243946</td>\n",
       "                        <td id=\"T_436d5bcc_6ead_11ea_9285_9828a61bd4b6row4_col11\" class=\"data row4 col11\" >0.0101185</td>\n",
       "            </tr>\n",
       "            <tr>\n",
       "                        <th id=\"T_436d5bcc_6ead_11ea_9285_9828a61bd4b6level0_row5\" class=\"row_heading level0 row5\" >ApplicantIncome</th>\n",
       "                        <td id=\"T_436d5bcc_6ead_11ea_9285_9828a61bd4b6row5_col0\" class=\"data row5 col0\" >0.0139334</td>\n",
       "                        <td id=\"T_436d5bcc_6ead_11ea_9285_9828a61bd4b6row5_col1\" class=\"data row5 col1\" >0.0501943</td>\n",
       "                        <td id=\"T_436d5bcc_6ead_11ea_9285_9828a61bd4b6row5_col2\" class=\"data row5 col2\" >0.118202</td>\n",
       "                        <td id=\"T_436d5bcc_6ead_11ea_9285_9828a61bd4b6row5_col3\" class=\"data row5 col3\" >-0.14076</td>\n",
       "                        <td id=\"T_436d5bcc_6ead_11ea_9285_9828a61bd4b6row5_col4\" class=\"data row5 col4\" >0.118202</td>\n",
       "                        <td id=\"T_436d5bcc_6ead_11ea_9285_9828a61bd4b6row5_col5\" class=\"data row5 col5\" >1</td>\n",
       "                        <td id=\"T_436d5bcc_6ead_11ea_9285_9828a61bd4b6row5_col6\" class=\"data row5 col6\" >-0.116605</td>\n",
       "                        <td id=\"T_436d5bcc_6ead_11ea_9285_9828a61bd4b6row5_col7\" class=\"data row5 col7\" >0.56562</td>\n",
       "                        <td id=\"T_436d5bcc_6ead_11ea_9285_9828a61bd4b6row5_col8\" class=\"data row5 col8\" >-0.0452418</td>\n",
       "                        <td id=\"T_436d5bcc_6ead_11ea_9285_9828a61bd4b6row5_col9\" class=\"data row5 col9\" >-0.0186154</td>\n",
       "                        <td id=\"T_436d5bcc_6ead_11ea_9285_9828a61bd4b6row5_col10\" class=\"data row5 col10\" >-0.00949969</td>\n",
       "                        <td id=\"T_436d5bcc_6ead_11ea_9285_9828a61bd4b6row5_col11\" class=\"data row5 col11\" >-0.00470952</td>\n",
       "            </tr>\n",
       "            <tr>\n",
       "                        <th id=\"T_436d5bcc_6ead_11ea_9285_9828a61bd4b6level0_row6\" class=\"row_heading level0 row6\" >CoapplicantIncome</th>\n",
       "                        <td id=\"T_436d5bcc_6ead_11ea_9285_9828a61bd4b6row6_col0\" class=\"data row6 col0\" >0.0823161</td>\n",
       "                        <td id=\"T_436d5bcc_6ead_11ea_9285_9828a61bd4b6row6_col1\" class=\"data row6 col1\" >0.080496</td>\n",
       "                        <td id=\"T_436d5bcc_6ead_11ea_9285_9828a61bd4b6row6_col2\" class=\"data row6 col2\" >0.03043</td>\n",
       "                        <td id=\"T_436d5bcc_6ead_11ea_9285_9828a61bd4b6row6_col3\" class=\"data row6 col3\" >-0.0622898</td>\n",
       "                        <td id=\"T_436d5bcc_6ead_11ea_9285_9828a61bd4b6row6_col4\" class=\"data row6 col4\" >0.03043</td>\n",
       "                        <td id=\"T_436d5bcc_6ead_11ea_9285_9828a61bd4b6row6_col5\" class=\"data row6 col5\" >-0.116605</td>\n",
       "                        <td id=\"T_436d5bcc_6ead_11ea_9285_9828a61bd4b6row6_col6\" class=\"data row6 col6\" >1</td>\n",
       "                        <td id=\"T_436d5bcc_6ead_11ea_9285_9828a61bd4b6row6_col7\" class=\"data row6 col7\" >0.187828</td>\n",
       "                        <td id=\"T_436d5bcc_6ead_11ea_9285_9828a61bd4b6row6_col8\" class=\"data row6 col8\" >-0.0596753</td>\n",
       "                        <td id=\"T_436d5bcc_6ead_11ea_9285_9828a61bd4b6row6_col9\" class=\"data row6 col9\" >0.0111339</td>\n",
       "                        <td id=\"T_436d5bcc_6ead_11ea_9285_9828a61bd4b6row6_col10\" class=\"data row6 col10\" >0.0105219</td>\n",
       "                        <td id=\"T_436d5bcc_6ead_11ea_9285_9828a61bd4b6row6_col11\" class=\"data row6 col11\" >-0.0591873</td>\n",
       "            </tr>\n",
       "            <tr>\n",
       "                        <th id=\"T_436d5bcc_6ead_11ea_9285_9828a61bd4b6level0_row7\" class=\"row_heading level0 row7\" >LoanAmount</th>\n",
       "                        <td id=\"T_436d5bcc_6ead_11ea_9285_9828a61bd4b6row7_col0\" class=\"data row7 col0\" >0.0646089</td>\n",
       "                        <td id=\"T_436d5bcc_6ead_11ea_9285_9828a61bd4b6row7_col1\" class=\"data row7 col1\" >0.145643</td>\n",
       "                        <td id=\"T_436d5bcc_6ead_11ea_9285_9828a61bd4b6row7_col2\" class=\"data row7 col2\" >0.163106</td>\n",
       "                        <td id=\"T_436d5bcc_6ead_11ea_9285_9828a61bd4b6row7_col3\" class=\"data row7 col3\" >-0.166998</td>\n",
       "                        <td id=\"T_436d5bcc_6ead_11ea_9285_9828a61bd4b6row7_col4\" class=\"data row7 col4\" >0.163106</td>\n",
       "                        <td id=\"T_436d5bcc_6ead_11ea_9285_9828a61bd4b6row7_col5\" class=\"data row7 col5\" >0.56562</td>\n",
       "                        <td id=\"T_436d5bcc_6ead_11ea_9285_9828a61bd4b6row7_col6\" class=\"data row7 col6\" >0.187828</td>\n",
       "                        <td id=\"T_436d5bcc_6ead_11ea_9285_9828a61bd4b6row7_col7\" class=\"data row7 col7\" >1</td>\n",
       "                        <td id=\"T_436d5bcc_6ead_11ea_9285_9828a61bd4b6row7_col8\" class=\"data row7 col8\" >0.0388015</td>\n",
       "                        <td id=\"T_436d5bcc_6ead_11ea_9285_9828a61bd4b6row7_col9\" class=\"data row7 col9\" >-0.00143059</td>\n",
       "                        <td id=\"T_436d5bcc_6ead_11ea_9285_9828a61bd4b6row7_col10\" class=\"data row7 col10\" >-0.0447757</td>\n",
       "                        <td id=\"T_436d5bcc_6ead_11ea_9285_9828a61bd4b6row7_col11\" class=\"data row7 col11\" >-0.036416</td>\n",
       "            </tr>\n",
       "            <tr>\n",
       "                        <th id=\"T_436d5bcc_6ead_11ea_9285_9828a61bd4b6level0_row8\" class=\"row_heading level0 row8\" >Loan_Amount_Term</th>\n",
       "                        <td id=\"T_436d5bcc_6ead_11ea_9285_9828a61bd4b6row8_col0\" class=\"data row8 col0\" >-0.0701792</td>\n",
       "                        <td id=\"T_436d5bcc_6ead_11ea_9285_9828a61bd4b6row8_col1\" class=\"data row8 col1\" >-0.1034</td>\n",
       "                        <td id=\"T_436d5bcc_6ead_11ea_9285_9828a61bd4b6row8_col2\" class=\"data row8 col2\" >-0.101054</td>\n",
       "                        <td id=\"T_436d5bcc_6ead_11ea_9285_9828a61bd4b6row8_col3\" class=\"data row8 col3\" >-0.0772416</td>\n",
       "                        <td id=\"T_436d5bcc_6ead_11ea_9285_9828a61bd4b6row8_col4\" class=\"data row8 col4\" >-0.101054</td>\n",
       "                        <td id=\"T_436d5bcc_6ead_11ea_9285_9828a61bd4b6row8_col5\" class=\"data row8 col5\" >-0.0452418</td>\n",
       "                        <td id=\"T_436d5bcc_6ead_11ea_9285_9828a61bd4b6row8_col6\" class=\"data row8 col6\" >-0.0596753</td>\n",
       "                        <td id=\"T_436d5bcc_6ead_11ea_9285_9828a61bd4b6row8_col7\" class=\"data row8 col7\" >0.0388015</td>\n",
       "                        <td id=\"T_436d5bcc_6ead_11ea_9285_9828a61bd4b6row8_col8\" class=\"data row8 col8\" >1</td>\n",
       "                        <td id=\"T_436d5bcc_6ead_11ea_9285_9828a61bd4b6row8_col9\" class=\"data row8 col9\" >0.000431549</td>\n",
       "                        <td id=\"T_436d5bcc_6ead_11ea_9285_9828a61bd4b6row8_col10\" class=\"data row8 col10\" >-0.0776204</td>\n",
       "                        <td id=\"T_436d5bcc_6ead_11ea_9285_9828a61bd4b6row8_col11\" class=\"data row8 col11\" >-0.0209738</td>\n",
       "            </tr>\n",
       "            <tr>\n",
       "                        <th id=\"T_436d5bcc_6ead_11ea_9285_9828a61bd4b6level0_row9\" class=\"row_heading level0 row9\" >Credit_History</th>\n",
       "                        <td id=\"T_436d5bcc_6ead_11ea_9285_9828a61bd4b6row9_col0\" class=\"data row9 col0\" >0.0216121</td>\n",
       "                        <td id=\"T_436d5bcc_6ead_11ea_9285_9828a61bd4b6row9_col1\" class=\"data row9 col1\" >0.00668995</td>\n",
       "                        <td id=\"T_436d5bcc_6ead_11ea_9285_9828a61bd4b6row9_col2\" class=\"data row9 col2\" >-0.0401598</td>\n",
       "                        <td id=\"T_436d5bcc_6ead_11ea_9285_9828a61bd4b6row9_col3\" class=\"data row9 col3\" >-0.0736578</td>\n",
       "                        <td id=\"T_436d5bcc_6ead_11ea_9285_9828a61bd4b6row9_col4\" class=\"data row9 col4\" >-0.0401598</td>\n",
       "                        <td id=\"T_436d5bcc_6ead_11ea_9285_9828a61bd4b6row9_col5\" class=\"data row9 col5\" >-0.0186154</td>\n",
       "                        <td id=\"T_436d5bcc_6ead_11ea_9285_9828a61bd4b6row9_col6\" class=\"data row9 col6\" >0.0111339</td>\n",
       "                        <td id=\"T_436d5bcc_6ead_11ea_9285_9828a61bd4b6row9_col7\" class=\"data row9 col7\" >-0.00143059</td>\n",
       "                        <td id=\"T_436d5bcc_6ead_11ea_9285_9828a61bd4b6row9_col8\" class=\"data row9 col8\" >0.000431549</td>\n",
       "                        <td id=\"T_436d5bcc_6ead_11ea_9285_9828a61bd4b6row9_col9\" class=\"data row9 col9\" >1</td>\n",
       "                        <td id=\"T_436d5bcc_6ead_11ea_9285_9828a61bd4b6row9_col10\" class=\"data row9 col10\" >0.00196302</td>\n",
       "                        <td id=\"T_436d5bcc_6ead_11ea_9285_9828a61bd4b6row9_col11\" class=\"data row9 col11\" >0.540556</td>\n",
       "            </tr>\n",
       "            <tr>\n",
       "                        <th id=\"T_436d5bcc_6ead_11ea_9285_9828a61bd4b6level0_row10\" class=\"row_heading level0 row10\" >Property_Area</th>\n",
       "                        <td id=\"T_436d5bcc_6ead_11ea_9285_9828a61bd4b6row10_col0\" class=\"data row10 col0\" >-0.017054</td>\n",
       "                        <td id=\"T_436d5bcc_6ead_11ea_9285_9828a61bd4b6row10_col1\" class=\"data row10 col1\" >0.000395334</td>\n",
       "                        <td id=\"T_436d5bcc_6ead_11ea_9285_9828a61bd4b6row10_col2\" class=\"data row10 col2\" >-0.000243946</td>\n",
       "                        <td id=\"T_436d5bcc_6ead_11ea_9285_9828a61bd4b6row10_col3\" class=\"data row10 col3\" >-0.0652433</td>\n",
       "                        <td id=\"T_436d5bcc_6ead_11ea_9285_9828a61bd4b6row10_col4\" class=\"data row10 col4\" >-0.000243946</td>\n",
       "                        <td id=\"T_436d5bcc_6ead_11ea_9285_9828a61bd4b6row10_col5\" class=\"data row10 col5\" >-0.00949969</td>\n",
       "                        <td id=\"T_436d5bcc_6ead_11ea_9285_9828a61bd4b6row10_col6\" class=\"data row10 col6\" >0.0105219</td>\n",
       "                        <td id=\"T_436d5bcc_6ead_11ea_9285_9828a61bd4b6row10_col7\" class=\"data row10 col7\" >-0.0447757</td>\n",
       "                        <td id=\"T_436d5bcc_6ead_11ea_9285_9828a61bd4b6row10_col8\" class=\"data row10 col8\" >-0.0776204</td>\n",
       "                        <td id=\"T_436d5bcc_6ead_11ea_9285_9828a61bd4b6row10_col9\" class=\"data row10 col9\" >0.00196302</td>\n",
       "                        <td id=\"T_436d5bcc_6ead_11ea_9285_9828a61bd4b6row10_col10\" class=\"data row10 col10\" >1</td>\n",
       "                        <td id=\"T_436d5bcc_6ead_11ea_9285_9828a61bd4b6row10_col11\" class=\"data row10 col11\" >0.032112</td>\n",
       "            </tr>\n",
       "            <tr>\n",
       "                        <th id=\"T_436d5bcc_6ead_11ea_9285_9828a61bd4b6level0_row11\" class=\"row_heading level0 row11\" >Loan_Status</th>\n",
       "                        <td id=\"T_436d5bcc_6ead_11ea_9285_9828a61bd4b6row11_col0\" class=\"data row11 col0\" >0.0254069</td>\n",
       "                        <td id=\"T_436d5bcc_6ead_11ea_9285_9828a61bd4b6row11_col1\" class=\"data row11 col1\" >0.0842805</td>\n",
       "                        <td id=\"T_436d5bcc_6ead_11ea_9285_9828a61bd4b6row11_col2\" class=\"data row11 col2\" >0.0101185</td>\n",
       "                        <td id=\"T_436d5bcc_6ead_11ea_9285_9828a61bd4b6row11_col3\" class=\"data row11 col3\" >-0.0858839</td>\n",
       "                        <td id=\"T_436d5bcc_6ead_11ea_9285_9828a61bd4b6row11_col4\" class=\"data row11 col4\" >0.0101185</td>\n",
       "                        <td id=\"T_436d5bcc_6ead_11ea_9285_9828a61bd4b6row11_col5\" class=\"data row11 col5\" >-0.00470952</td>\n",
       "                        <td id=\"T_436d5bcc_6ead_11ea_9285_9828a61bd4b6row11_col6\" class=\"data row11 col6\" >-0.0591873</td>\n",
       "                        <td id=\"T_436d5bcc_6ead_11ea_9285_9828a61bd4b6row11_col7\" class=\"data row11 col7\" >-0.036416</td>\n",
       "                        <td id=\"T_436d5bcc_6ead_11ea_9285_9828a61bd4b6row11_col8\" class=\"data row11 col8\" >-0.0209738</td>\n",
       "                        <td id=\"T_436d5bcc_6ead_11ea_9285_9828a61bd4b6row11_col9\" class=\"data row11 col9\" >0.540556</td>\n",
       "                        <td id=\"T_436d5bcc_6ead_11ea_9285_9828a61bd4b6row11_col10\" class=\"data row11 col10\" >0.032112</td>\n",
       "                        <td id=\"T_436d5bcc_6ead_11ea_9285_9828a61bd4b6row11_col11\" class=\"data row11 col11\" >1</td>\n",
       "            </tr>\n",
       "    </tbody></table>"
      ],
      "text/plain": [
       "<pandas.io.formats.style.Styler at 0x4a96290>"
      ]
     },
     "execution_count": 100,
     "metadata": {},
     "output_type": "execute_result"
    }
   ],
   "source": [
    "corr = df.corr()\n",
    "corr.style.background_gradient(cmap='coolwarm')"
   ]
  },
  {
   "cell_type": "code",
   "execution_count": 101,
   "metadata": {},
   "outputs": [],
   "source": [
    "#Since Self Employed and Dependants are directly correlated so removing Dependants columns\n",
    "df.drop(columns=['Dependents'],inplace=True)"
   ]
  },
  {
   "cell_type": "code",
   "execution_count": 107,
   "metadata": {},
   "outputs": [],
   "source": [
    "# corr = df.corr()\n",
    "# corr.style.background_gradient(cmap='coolwarm')\n",
    "# plt.savefig('corr.png')"
   ]
  },
  {
   "cell_type": "code",
   "execution_count": 108,
   "metadata": {},
   "outputs": [
    {
     "data": {
      "image/png": "[encoded data removed]",
      "text/plain": [
       "<Figure size 1440x864 with 2 Axes>"
      ]
     },
     "metadata": {},
     "output_type": "display_data"
    }
   ],
   "source": [
    "sns.heatmap(df.corr(),annot=True,cmap='RdYlGn',linewidths=0.2)\n",
    "fig=plt.gcf()\n",
    "fig.set_size_inches(20,12)\n",
    "plt.savefig(\"corr.png\")\n",
    "plt.show()"
   ]
  },
  {
   "cell_type": "code",
   "execution_count": 109,
   "metadata": {},
   "outputs": [],
   "source": [
    "#sns.pairplot(df,hue='Loan_Status')"
   ]
  },
  {
   "cell_type": "code",
   "execution_count": 110,
   "metadata": {},
   "outputs": [
    {
     "data": {
      "image/png": "[encoded data removed]",
      "text/plain": [
       "<Figure size 576x396 with 1 Axes>"
      ]
     },
     "metadata": {},
     "output_type": "display_data"
    }
   ],
   "source": [
    "x = df['Loan_Status'].value_counts()\n",
    "x.tolist()\n",
    "DefconLevel = [0, 1]\n",
    "piechart = plt.pie(x,  labels = DefconLevel, autopct = '%1.1f%%')\n",
    "plt.title('Loan_Status', fontsize = 15, fontweight = 'bold')\n",
    "plt.axis('equal')\n",
    "plt.savefig('fig0.jpg')\n",
    "plt.show()"
   ]
  },
  {
   "cell_type": "code",
   "execution_count": 48,
   "metadata": {},
   "outputs": [
    {
     "data": {
      "image/png": "[encoded data removed]",
      "text/plain": [
       "<Figure size 1800x1440 with 4 Axes>"
      ]
     },
     "metadata": {},
     "output_type": "display_data"
    }
   ],
   "source": [
    "fig, ((a,b),(c,d)) = plt.subplots(2,2,figsize=(25,20))\n",
    "plt.xticks(rotation=45)\n",
    "sns.set(font_scale=1.5)\n",
    "sns.countplot(df['Credit_History'],hue=df['Loan_Status'],ax=a)\n",
    "plt.savefig('fig1.jpg')\n",
    "sns.countplot(df['Property_Area'],hue=df['Loan_Status'],ax=c)\n",
    "plt.savefig('fig2.jpg')\n",
    "sns.countplot(df['Education'],hue=df['Loan_Status'],ax=d)\n",
    "plt.savefig('fig3.jpg')\n",
    "sns.countplot(df['Married'],hue=df['Loan_Status'],ax=b)\n",
    "plt.savefig('fig4.jpg')"
   ]
  },
  {
   "cell_type": "code",
   "execution_count": 51,
   "metadata": {},
   "outputs": [
    {
     "data": {
      "image/png": "[encoded data removed]",
      "text/plain": [
       "<Figure size 576x396 with 1 Axes>"
      ]
     },
     "metadata": {},
     "output_type": "display_data"
    }
   ],
   "source": [
    "#fig, ((a,b),(c,d)) = plt.subplots(2,2,figsize=(25,20))\n",
    "# fig, (a,b) = plt.subplots(2,2,figsize=(25,20))\n",
    "# plt.xticks(rotation=45)\n",
    "# sns.set(font_scale=1.5)\n",
    "sns.countplot(df['Gender'],hue=df['Loan_Status'])\n",
    "sns.countplot(df['Self_Employed'],hue=df['Loan_Status'])\n",
    "plt.savefig('fig5.jpg')\n",
    "#sns.countplot(df['ApplicantIncome'],hue=df['Loan_Status'],ax=d)\n",
    "#sns.countplot(df['CoapplicantIncome'],hue=df['Loan_Status'],ax=b)"
   ]
  },
  {
   "cell_type": "code",
   "execution_count": 52,
   "metadata": {},
   "outputs": [
    {
     "data": {
      "text/plain": [
       "Index(['Loan_ID', 'Gender', 'Married', 'Education', 'Self_Employed',\n",
       "       'ApplicantIncome', 'CoapplicantIncome', 'LoanAmount',\n",
       "       'Loan_Amount_Term', 'Credit_History', 'Property_Area', 'Loan_Status'],\n",
       "      dtype='object')"
      ]
     },
     "execution_count": 52,
     "metadata": {},
     "output_type": "execute_result"
    }
   ],
   "source": [
    "df.columns"
   ]
  },
  {
   "cell_type": "code",
   "execution_count": null,
   "metadata": {},
   "outputs": [],
   "source": []
  },
  {
   "cell_type": "code",
   "execution_count": null,
   "metadata": {},
   "outputs": [],
   "source": []
  },
  {
   "cell_type": "code",
   "execution_count": 53,
   "metadata": {},
   "outputs": [],
   "source": [
    "del df['Credit_History']"
   ]
  },
  {
   "cell_type": "code",
   "execution_count": null,
   "metadata": {},
   "outputs": [],
   "source": []
  },
  {
   "cell_type": "code",
   "execution_count": null,
   "metadata": {},
   "outputs": [],
   "source": []
  },
  {
   "cell_type": "code",
   "execution_count": null,
   "metadata": {},
   "outputs": [],
   "source": []
  },
  {
   "cell_type": "code",
   "execution_count": null,
   "metadata": {},
   "outputs": [],
   "source": []
  },
  {
   "cell_type": "code",
   "execution_count": null,
   "metadata": {},
   "outputs": [],
   "source": []
  },
  {
   "cell_type": "code",
   "execution_count": null,
   "metadata": {},
   "outputs": [],
   "source": []
  },
  {
   "cell_type": "code",
   "execution_count": null,
   "metadata": {},
   "outputs": [],
   "source": []
  },
  {
   "cell_type": "code",
   "execution_count": null,
   "metadata": {},
   "outputs": [],
   "source": []
  },
  {
   "cell_type": "code",
   "execution_count": null,
   "metadata": {},
   "outputs": [],
   "source": []
  },
  {
   "cell_type": "code",
   "execution_count": null,
   "metadata": {},
   "outputs": [],
   "source": []
  },
  {
   "cell_type": "code",
   "execution_count": 111,
   "metadata": {},
   "outputs": [],
   "source": [
    "y = df['Loan_Status']\n",
    "df.drop(columns=['Loan_Status'],inplace=True)"
   ]
  },
  {
   "cell_type": "code",
   "execution_count": 112,
   "metadata": {},
   "outputs": [],
   "source": [
    "df.drop(columns=['Loan_ID'],inplace=True)"
   ]
  },
  {
   "cell_type": "code",
   "execution_count": 113,
   "metadata": {},
   "outputs": [],
   "source": [
    "X = df"
   ]
  },
  {
   "cell_type": "code",
   "execution_count": 114,
   "metadata": {},
   "outputs": [],
   "source": [
    "from sklearn.model_selection import train_test_split\n",
    "X_train,X_test,y_train,y_test = train_test_split(X,y,test_size=0.2)"
   ]
  },
  {
   "cell_type": "code",
   "execution_count": 115,
   "metadata": {},
   "outputs": [
    {
     "name": "stdout",
     "output_type": "stream",
     "text": [
      "(491, 10)\n",
      "(491,)\n",
      "(123, 10)\n",
      "(123,)\n"
     ]
    }
   ],
   "source": [
    "print(X_train.shape)\n",
    "print(y_train.shape)\n",
    "print(X_test.shape)\n",
    "print(y_test.shape)"
   ]
  },
  {
   "cell_type": "code",
   "execution_count": 116,
   "metadata": {},
   "outputs": [],
   "source": [
    "from sklearn.linear_model import LinearRegression, Ridge, Lasso , LogisticRegression"
   ]
  },
  {
   "cell_type": "code",
   "execution_count": 117,
   "metadata": {},
   "outputs": [],
   "source": [
    "clf = LogisticRegression()"
   ]
  },
  {
   "cell_type": "code",
   "execution_count": 118,
   "metadata": {},
   "outputs": [
    {
     "name": "stderr",
     "output_type": "stream",
     "text": [
      "c:\\users\\vivek rai\\appdata\\local\\programs\\python\\python37-32\\lib\\site-packages\\sklearn\\linear_model\\logistic.py:432: FutureWarning: Default solver will be changed to 'lbfgs' in 0.22. Specify a solver to silence this warning.\n",
      "  FutureWarning)\n"
     ]
    },
    {
     "data": {
      "text/plain": [
       "LogisticRegression(C=1.0, class_weight=None, dual=False, fit_intercept=True,\n",
       "                   intercept_scaling=1, l1_ratio=None, max_iter=100,\n",
       "                   multi_class='warn', n_jobs=None, penalty='l2',\n",
       "                   random_state=None, solver='warn', tol=0.0001, verbose=0,\n",
       "                   warm_start=False)"
      ]
     },
     "execution_count": 118,
     "metadata": {},
     "output_type": "execute_result"
    }
   ],
   "source": [
    "clf.fit(X_train,y_train)"
   ]
  },
  {
   "cell_type": "code",
   "execution_count": 119,
   "metadata": {},
   "outputs": [
    {
     "data": {
      "text/plain": [
       "0.8211382113821138"
      ]
     },
     "execution_count": 119,
     "metadata": {},
     "output_type": "execute_result"
    }
   ],
   "source": [
    "clf.score(X_test,y_test)"
   ]
  },
  {
   "cell_type": "code",
   "execution_count": 129,
   "metadata": {},
   "outputs": [],
   "source": [
    "from sklearn.ensemble import RandomForestClassifier\n",
    "clf = RandomForestClassifier(n_estimators=10,random_state = 42 ,max_depth=5,criterion='entropy',warm_start=True)"
   ]
  },
  {
   "cell_type": "code",
   "execution_count": 130,
   "metadata": {},
   "outputs": [
    {
     "data": {
      "text/plain": [
       "RandomForestClassifier(bootstrap=True, class_weight=None, criterion='entropy',\n",
       "                       max_depth=5, max_features='auto', max_leaf_nodes=None,\n",
       "                       min_impurity_decrease=0.0, min_impurity_split=None,\n",
       "                       min_samples_leaf=1, min_samples_split=2,\n",
       "                       min_weight_fraction_leaf=0.0, n_estimators=10,\n",
       "                       n_jobs=None, oob_score=False, random_state=42, verbose=0,\n",
       "                       warm_start=True)"
      ]
     },
     "execution_count": 130,
     "metadata": {},
     "output_type": "execute_result"
    }
   ],
   "source": [
    "clf.fit(X_train, y_train)"
   ]
  },
  {
   "cell_type": "code",
   "execution_count": 131,
   "metadata": {},
   "outputs": [
    {
     "data": {
      "text/plain": [
       "0.8130081300813008"
      ]
     },
     "execution_count": 131,
     "metadata": {},
     "output_type": "execute_result"
    }
   ],
   "source": [
    "clf.score(X_test,y_test)"
   ]
  },
  {
   "cell_type": "code",
   "execution_count": 132,
   "metadata": {},
   "outputs": [],
   "source": [
    "df_test = pd.read_csv('http://iali.in/datasets/loan_test.csv')"
   ]
  },
  {
   "cell_type": "code",
   "execution_count": 133,
   "metadata": {},
   "outputs": [
    {
     "data": {
      "text/html": [
       "<div>\n",
       "<style scoped>\n",
       "    .dataframe tbody tr th:only-of-type {\n",
       "        vertical-align: middle;\n",
       "    }\n",
       "\n",
       "    .dataframe tbody tr th {\n",
       "        vertical-align: top;\n",
       "    }\n",
       "\n",
       "    .dataframe thead th {\n",
       "        text-align: right;\n",
       "    }\n",
       "</style>\n",
       "<table border=\"1\" class=\"dataframe\">\n",
       "  <thead>\n",
       "    <tr style=\"text-align: right;\">\n",
       "      <th></th>\n",
       "      <th>Loan_ID</th>\n",
       "      <th>Gender</th>\n",
       "      <th>Married</th>\n",
       "      <th>Dependents</th>\n",
       "      <th>Education</th>\n",
       "      <th>Self_Employed</th>\n",
       "      <th>ApplicantIncome</th>\n",
       "      <th>CoapplicantIncome</th>\n",
       "      <th>LoanAmount</th>\n",
       "      <th>Loan_Amount_Term</th>\n",
       "      <th>Credit_History</th>\n",
       "      <th>Property_Area</th>\n",
       "    </tr>\n",
       "  </thead>\n",
       "  <tbody>\n",
       "    <tr>\n",
       "      <th>0</th>\n",
       "      <td>LP001015</td>\n",
       "      <td>Male</td>\n",
       "      <td>Yes</td>\n",
       "      <td>0</td>\n",
       "      <td>Graduate</td>\n",
       "      <td>No</td>\n",
       "      <td>5720</td>\n",
       "      <td>0</td>\n",
       "      <td>110.0</td>\n",
       "      <td>360.0</td>\n",
       "      <td>1.0</td>\n",
       "      <td>Urban</td>\n",
       "    </tr>\n",
       "    <tr>\n",
       "      <th>1</th>\n",
       "      <td>LP001022</td>\n",
       "      <td>Male</td>\n",
       "      <td>Yes</td>\n",
       "      <td>1</td>\n",
       "      <td>Graduate</td>\n",
       "      <td>No</td>\n",
       "      <td>3076</td>\n",
       "      <td>1500</td>\n",
       "      <td>126.0</td>\n",
       "      <td>360.0</td>\n",
       "      <td>1.0</td>\n",
       "      <td>Urban</td>\n",
       "    </tr>\n",
       "    <tr>\n",
       "      <th>2</th>\n",
       "      <td>LP001031</td>\n",
       "      <td>Male</td>\n",
       "      <td>Yes</td>\n",
       "      <td>2</td>\n",
       "      <td>Graduate</td>\n",
       "      <td>No</td>\n",
       "      <td>5000</td>\n",
       "      <td>1800</td>\n",
       "      <td>208.0</td>\n",
       "      <td>360.0</td>\n",
       "      <td>1.0</td>\n",
       "      <td>Urban</td>\n",
       "    </tr>\n",
       "    <tr>\n",
       "      <th>3</th>\n",
       "      <td>LP001035</td>\n",
       "      <td>Male</td>\n",
       "      <td>Yes</td>\n",
       "      <td>2</td>\n",
       "      <td>Graduate</td>\n",
       "      <td>No</td>\n",
       "      <td>2340</td>\n",
       "      <td>2546</td>\n",
       "      <td>100.0</td>\n",
       "      <td>360.0</td>\n",
       "      <td>NaN</td>\n",
       "      <td>Urban</td>\n",
       "    </tr>\n",
       "    <tr>\n",
       "      <th>4</th>\n",
       "      <td>LP001051</td>\n",
       "      <td>Male</td>\n",
       "      <td>No</td>\n",
       "      <td>0</td>\n",
       "      <td>Not Graduate</td>\n",
       "      <td>No</td>\n",
       "      <td>3276</td>\n",
       "      <td>0</td>\n",
       "      <td>78.0</td>\n",
       "      <td>360.0</td>\n",
       "      <td>1.0</td>\n",
       "      <td>Urban</td>\n",
       "    </tr>\n",
       "  </tbody>\n",
       "</table>\n",
       "</div>"
      ],
      "text/plain": [
       "    Loan_ID Gender Married Dependents     Education Self_Employed  \\\n",
       "0  LP001015   Male     Yes          0      Graduate            No   \n",
       "1  LP001022   Male     Yes          1      Graduate            No   \n",
       "2  LP001031   Male     Yes          2      Graduate            No   \n",
       "3  LP001035   Male     Yes          2      Graduate            No   \n",
       "4  LP001051   Male      No          0  Not Graduate            No   \n",
       "\n",
       "   ApplicantIncome  CoapplicantIncome  LoanAmount  Loan_Amount_Term  \\\n",
       "0             5720                  0       110.0             360.0   \n",
       "1             3076               1500       126.0             360.0   \n",
       "2             5000               1800       208.0             360.0   \n",
       "3             2340               2546       100.0             360.0   \n",
       "4             3276                  0        78.0             360.0   \n",
       "\n",
       "   Credit_History Property_Area  \n",
       "0             1.0         Urban  \n",
       "1             1.0         Urban  \n",
       "2             1.0         Urban  \n",
       "3             NaN         Urban  \n",
       "4             1.0         Urban  "
      ]
     },
     "execution_count": 133,
     "metadata": {},
     "output_type": "execute_result"
    }
   ],
   "source": [
    "df_test.head()"
   ]
  },
  {
   "cell_type": "code",
   "execution_count": null,
   "metadata": {},
   "outputs": [],
   "source": []
  }
 ],
 "metadata": {
  "kernelspec": {
   "display_name": "Python 3",
   "language": "python",
   "name": "python3"
  },
  "language_info": {
   "codemirror_mode": {
    "name": "ipython",
    "version": 3
   },
   "file_extension": ".py",
   "mimetype": "text/x-python",
   "name": "python",
   "nbconvert_exporter": "python",
   "pygments_lexer": "ipython3",
   "version": "3.7.1"
  }
 },
 "nbformat": 4,
 "nbformat_minor": 2
}
