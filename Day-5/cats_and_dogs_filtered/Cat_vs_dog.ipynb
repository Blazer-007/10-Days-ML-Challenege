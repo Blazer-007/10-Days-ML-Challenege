{
 "cells": [
  {
   "cell_type": "code",
   "execution_count": 13,
   "metadata": {},
   "outputs": [],
   "source": [
    "# To download dataset directly run following command\n",
    "# !wget --no-check-certificate \\\n",
    "#     https://storage.googleapis.com/mledu-datasets/cats_and_dogs_filtered.zip \\\n",
    "#     -O /tmp/cats_and_dogs_filtered.zip"
   ]
  },
  {
   "cell_type": "code",
   "execution_count": 1,
   "metadata": {},
   "outputs": [],
   "source": [
    "import os\n",
    "from pathlib import Path\n",
    "import matplotlib.pyplot as plt\n",
    "import numpy as np\n",
    "import tensorflow as tf\n",
    "from tensorflow.keras.optimizers import RMSprop\n",
    "from tensorflow.keras.preprocessing.image import ImageDataGenerator"
   ]
  },
  {
   "cell_type": "code",
   "execution_count": 2,
   "metadata": {},
   "outputs": [
    {
     "data": {
      "text/plain": [
       "'C:\\\\Users\\\\Vivek Rai\\\\10-Days-ML-Challenege\\\\Day-5\\\\cats_and_dogs_filtered'"
      ]
     },
     "execution_count": 2,
     "metadata": {},
     "output_type": "execute_result"
    }
   ],
   "source": [
    "pwd"
   ]
  },
  {
   "cell_type": "code",
   "execution_count": 4,
   "metadata": {},
   "outputs": [],
   "source": [
    "base_dir = 'C:\\\\Users\\\\Vivek Rai\\\\10-Days-ML-Challenege\\\\Day-5\\\\cats_and_dogs_filtered'"
   ]
  },
  {
   "cell_type": "code",
   "execution_count": 5,
   "metadata": {},
   "outputs": [],
   "source": [
    "train_dir = os.path.join(base_dir, 'train')\n",
    "validation_dir = os.path.join(base_dir, 'validation')"
   ]
  },
  {
   "cell_type": "code",
   "execution_count": 6,
   "metadata": {},
   "outputs": [
    {
     "name": "stdout",
     "output_type": "stream",
     "text": [
      "C:\\Users\\Vivek Rai\\10-Days-ML-Challenege\\Day-5\\cats_and_dogs_filtered\n",
      "C:\\Users\\Vivek Rai\\10-Days-ML-Challenege\\Day-5\\cats_and_dogs_filtered\\train\n",
      "C:\\Users\\Vivek Rai\\10-Days-ML-Challenege\\Day-5\\cats_and_dogs_filtered\\validation\n"
     ]
    }
   ],
   "source": [
    "print(base_dir)\n",
    "print(train_dir)\n",
    "print(validation_dir)"
   ]
  },
  {
   "cell_type": "code",
   "execution_count": 7,
   "metadata": {},
   "outputs": [],
   "source": [
    "# Directory with our training cat pictures\n",
    "train_cats_dir = os.path.join(train_dir, 'cats')\n",
    "\n",
    "# Directory with our training dog pictures\n",
    "train_dogs_dir = os.path.join(train_dir, 'dogs')\n",
    "\n",
    "# Directory with our validation cat pictures\n",
    "validation_cats_dir = os.path.join(validation_dir, 'cats')\n",
    "\n",
    "# Directory with our validation dog pictures\n",
    "validation_dogs_dir = os.path.join(validation_dir, 'dogs')"
   ]
  },
  {
   "cell_type": "code",
   "execution_count": 8,
   "metadata": {},
   "outputs": [
    {
     "name": "stdout",
     "output_type": "stream",
     "text": [
      "C:\\Users\\Vivek Rai\\10-Days-ML-Challenege\\Day-5\\cats_and_dogs_filtered\\train\\cats\n",
      "C:\\Users\\Vivek Rai\\10-Days-ML-Challenege\\Day-5\\cats_and_dogs_filtered\\train\\dogs\n",
      "C:\\Users\\Vivek Rai\\10-Days-ML-Challenege\\Day-5\\cats_and_dogs_filtered\\validation\\cats\n",
      "C:\\Users\\Vivek Rai\\10-Days-ML-Challenege\\Day-5\\cats_and_dogs_filtered\\validation\\dogs\n"
     ]
    }
   ],
   "source": [
    "print(train_cats_dir)\n",
    "print(train_dogs_dir)\n",
    "print(validation_cats_dir)\n",
    "print(validation_dogs_dir)"
   ]
  },
  {
   "cell_type": "code",
   "execution_count": 9,
   "metadata": {},
   "outputs": [
    {
     "name": "stdout",
     "output_type": "stream",
     "text": [
      "WARNING:tensorflow:From C:\\Users\\Vivek Rai\\Anaconda3\\lib\\site-packages\\tensorflow\\python\\ops\\init_ops.py:1251: calling VarianceScaling.__init__ (from tensorflow.python.ops.init_ops) with dtype is deprecated and will be removed in a future version.\n",
      "Instructions for updating:\n",
      "Call initializer instance with the dtype argument instead of passing it to the constructor\n",
      "WARNING:tensorflow:From C:\\Users\\Vivek Rai\\Anaconda3\\lib\\site-packages\\tensorflow\\python\\ops\\nn_impl.py:180: add_dispatch_support.<locals>.wrapper (from tensorflow.python.ops.array_ops) is deprecated and will be removed in a future version.\n",
      "Instructions for updating:\n",
      "Use tf.where in 2.0, which has the same broadcast rule as np.where\n",
      "Model: \"sequential\"\n",
      "_________________________________________________________________\n",
      "Layer (type)                 Output Shape              Param #   \n",
      "=================================================================\n",
      "conv2d (Conv2D)              (None, 148, 148, 32)      896       \n",
      "_________________________________________________________________\n",
      "max_pooling2d (MaxPooling2D) (None, 74, 74, 32)        0         \n",
      "_________________________________________________________________\n",
      "conv2d_1 (Conv2D)            (None, 72, 72, 64)        18496     \n",
      "_________________________________________________________________\n",
      "max_pooling2d_1 (MaxPooling2 (None, 36, 36, 64)        0         \n",
      "_________________________________________________________________\n",
      "conv2d_2 (Conv2D)            (None, 34, 34, 128)       73856     \n",
      "_________________________________________________________________\n",
      "max_pooling2d_2 (MaxPooling2 (None, 17, 17, 128)       0         \n",
      "_________________________________________________________________\n",
      "conv2d_3 (Conv2D)            (None, 15, 15, 128)       147584    \n",
      "_________________________________________________________________\n",
      "max_pooling2d_3 (MaxPooling2 (None, 7, 7, 128)         0         \n",
      "_________________________________________________________________\n",
      "dropout (Dropout)            (None, 7, 7, 128)         0         \n",
      "_________________________________________________________________\n",
      "flatten (Flatten)            (None, 6272)              0         \n",
      "_________________________________________________________________\n",
      "dense (Dense)                (None, 512)               3211776   \n",
      "_________________________________________________________________\n",
      "dense_1 (Dense)              (None, 1)                 513       \n",
      "=================================================================\n",
      "Total params: 3,453,121\n",
      "Trainable params: 3,453,121\n",
      "Non-trainable params: 0\n",
      "_________________________________________________________________\n"
     ]
    }
   ],
   "source": [
    "model = tf.keras.models.Sequential([\n",
    "    tf.keras.layers.Conv2D(32, (3,3), activation='relu', input_shape=(150, 150, 3)),\n",
    "    tf.keras.layers.MaxPooling2D(2, 2),\n",
    "    tf.keras.layers.Conv2D(64, (3,3), activation='relu'),\n",
    "    tf.keras.layers.MaxPooling2D(2,2),\n",
    "    tf.keras.layers.Conv2D(128, (3,3), activation='relu'),\n",
    "    tf.keras.layers.MaxPooling2D(2,2),\n",
    "    tf.keras.layers.Conv2D(128, (3,3), activation='relu'),\n",
    "    tf.keras.layers.MaxPooling2D(2,2),\n",
    "    tf.keras.layers.Dropout(0.5),\n",
    "    tf.keras.layers.Flatten(),\n",
    "    tf.keras.layers.Dense(512, activation='relu'),\n",
    "    tf.keras.layers.Dense(1, activation='sigmoid')\n",
    "])\n",
    "\n",
    "model.compile(loss='binary_crossentropy',\n",
    "              optimizer=RMSprop(lr=1e-4),\n",
    "              metrics=['acc'])\n",
    "model.summary()"
   ]
  },
  {
   "cell_type": "code",
   "execution_count": 10,
   "metadata": {},
   "outputs": [
    {
     "name": "stdout",
     "output_type": "stream",
     "text": [
      "Found 2000 images belonging to 2 classes.\n",
      "Found 1000 images belonging to 2 classes.\n"
     ]
    }
   ],
   "source": [
    "\n",
    "# This code has changed. Now instead of the ImageGenerator just rescaling\n",
    "# the image, we also rotate and do other operations\n",
    "# Updated to do image augmentation\n",
    "train_datagen = ImageDataGenerator(\n",
    "      rescale=1./255,\n",
    "      rotation_range=40,\n",
    "      width_shift_range=0.2,\n",
    "      height_shift_range=0.2,\n",
    "      shear_range=0.2,\n",
    "      zoom_range=0.2,\n",
    "      horizontal_flip=True,\n",
    "      fill_mode='nearest')\n",
    "\n",
    "test_datagen = ImageDataGenerator(rescale=1./255)\n",
    "\n",
    "# Flow training images in batches of 20 using train_datagen generator\n",
    "train_generator = train_datagen.flow_from_directory(\n",
    "        train_dir,  # This is the source directory for training images\n",
    "        target_size=(150, 150),  # All images will be resized to 150x150\n",
    "        batch_size=20,\n",
    "        # Since we use binary_crossentropy loss, we need binary labels\n",
    "        class_mode='binary')\n",
    "\n",
    "# Flow validation images in batches of 20 using test_datagen generator\n",
    "validation_generator = test_datagen.flow_from_directory(\n",
    "        validation_dir,\n",
    "        target_size=(150, 150),\n",
    "        batch_size=20,\n",
    "        class_mode='binary')"
   ]
  },
  {
   "cell_type": "code",
   "execution_count": 11,
   "metadata": {},
   "outputs": [
    {
     "name": "stdout",
     "output_type": "stream",
     "text": [
      "Epoch 1/100\n",
      "100/100 - 65s - loss: 0.6952 - acc: 0.5085 - val_loss: 0.6836 - val_acc: 0.5640\n",
      "Epoch 2/100\n",
      "100/100 - 70s - loss: 0.6875 - acc: 0.5500 - val_loss: 0.6662 - val_acc: 0.6110\n",
      "Epoch 3/100\n",
      "100/100 - 82s - loss: 0.6697 - acc: 0.5775 - val_loss: 0.6399 - val_acc: 0.6350\n",
      "Epoch 4/100\n",
      "100/100 - 115s - loss: 0.6641 - acc: 0.5840 - val_loss: 0.6854 - val_acc: 0.5180\n",
      "Epoch 5/100\n",
      "100/100 - 104s - loss: 0.6484 - acc: 0.6050 - val_loss: 0.6100 - val_acc: 0.6820\n",
      "Epoch 6/100\n",
      "100/100 - 111s - loss: 0.6459 - acc: 0.6130 - val_loss: 0.6082 - val_acc: 0.6710\n",
      "Epoch 7/100\n",
      "100/100 - 105s - loss: 0.6283 - acc: 0.6440 - val_loss: 0.6069 - val_acc: 0.6770\n",
      "Epoch 8/100\n",
      "100/100 - 113s - loss: 0.6202 - acc: 0.6505 - val_loss: 0.5854 - val_acc: 0.6940\n",
      "Epoch 9/100\n",
      "100/100 - 104s - loss: 0.6099 - acc: 0.6650 - val_loss: 0.5631 - val_acc: 0.7050\n",
      "Epoch 10/100\n",
      "100/100 - 106s - loss: 0.6069 - acc: 0.6685 - val_loss: 0.5695 - val_acc: 0.6970\n",
      "Epoch 11/100\n",
      "100/100 - 112s - loss: 0.5894 - acc: 0.6885 - val_loss: 0.5452 - val_acc: 0.7240\n",
      "Epoch 12/100\n",
      "100/100 - 103s - loss: 0.5841 - acc: 0.6815 - val_loss: 0.5445 - val_acc: 0.7170\n",
      "Epoch 13/100\n",
      "100/100 - 112s - loss: 0.5837 - acc: 0.6990 - val_loss: 0.5622 - val_acc: 0.6970\n",
      "Epoch 14/100\n",
      "100/100 - 103s - loss: 0.5816 - acc: 0.6945 - val_loss: 0.5549 - val_acc: 0.7060\n",
      "Epoch 15/100\n",
      "100/100 - 111s - loss: 0.5750 - acc: 0.6955 - val_loss: 0.5499 - val_acc: 0.7080\n",
      "Epoch 16/100\n",
      "100/100 - 106s - loss: 0.5770 - acc: 0.7035 - val_loss: 0.5374 - val_acc: 0.7250\n",
      "Epoch 17/100\n",
      "100/100 - 112s - loss: 0.5665 - acc: 0.7095 - val_loss: 0.5552 - val_acc: 0.7210\n",
      "Epoch 18/100\n",
      "100/100 - 104s - loss: 0.5613 - acc: 0.7155 - val_loss: 0.5141 - val_acc: 0.7400\n",
      "Epoch 19/100\n",
      "100/100 - 114s - loss: 0.5662 - acc: 0.7065 - val_loss: 0.5635 - val_acc: 0.7090\n",
      "Epoch 20/100\n",
      "100/100 - 104s - loss: 0.5475 - acc: 0.7225 - val_loss: 0.5296 - val_acc: 0.7360\n",
      "Epoch 21/100\n",
      "100/100 - 116s - loss: 0.5464 - acc: 0.7215 - val_loss: 0.5342 - val_acc: 0.7130\n",
      "Epoch 22/100\n",
      "100/100 - 105s - loss: 0.5561 - acc: 0.7110 - val_loss: 0.5024 - val_acc: 0.7330\n",
      "Epoch 23/100\n",
      "100/100 - 112s - loss: 0.5344 - acc: 0.7370 - val_loss: 0.5253 - val_acc: 0.7340\n",
      "Epoch 24/100\n",
      "100/100 - 103s - loss: 0.5425 - acc: 0.7140 - val_loss: 0.5020 - val_acc: 0.7430\n",
      "Epoch 25/100\n",
      "100/100 - 115s - loss: 0.5304 - acc: 0.7445 - val_loss: 0.6011 - val_acc: 0.7000\n",
      "Epoch 26/100\n",
      "100/100 - 141s - loss: 0.5273 - acc: 0.7350 - val_loss: 0.5397 - val_acc: 0.7110\n",
      "Epoch 27/100\n",
      "100/100 - 136s - loss: 0.5304 - acc: 0.7435 - val_loss: 0.5296 - val_acc: 0.7380\n",
      "Epoch 28/100\n",
      "100/100 - 123s - loss: 0.5370 - acc: 0.7345 - val_loss: 0.4922 - val_acc: 0.7500\n",
      "Epoch 29/100\n",
      "100/100 - 149s - loss: 0.5204 - acc: 0.7380 - val_loss: 0.4917 - val_acc: 0.7440\n",
      "Epoch 30/100\n",
      "100/100 - 120s - loss: 0.5234 - acc: 0.7295 - val_loss: 0.5732 - val_acc: 0.7080\n",
      "Epoch 31/100\n",
      "100/100 - 132s - loss: 0.5273 - acc: 0.7385 - val_loss: 0.5171 - val_acc: 0.7310\n",
      "Epoch 32/100\n",
      "100/100 - 141s - loss: 0.5286 - acc: 0.7315 - val_loss: 0.4951 - val_acc: 0.7490\n",
      "Epoch 33/100\n",
      "100/100 - 107s - loss: 0.5150 - acc: 0.7495 - val_loss: 0.4824 - val_acc: 0.7570\n",
      "Epoch 34/100\n",
      "100/100 - 104s - loss: 0.4996 - acc: 0.7550 - val_loss: 0.4931 - val_acc: 0.7440\n",
      "Epoch 35/100\n",
      "100/100 - 74s - loss: 0.5112 - acc: 0.7490 - val_loss: 0.5457 - val_acc: 0.7450\n",
      "Epoch 36/100\n",
      "100/100 - 64s - loss: 0.4951 - acc: 0.7625 - val_loss: 0.4755 - val_acc: 0.7580\n",
      "Epoch 37/100\n",
      "100/100 - 82s - loss: 0.5053 - acc: 0.7540 - val_loss: 0.4874 - val_acc: 0.7650\n",
      "Epoch 38/100\n",
      "100/100 - 65s - loss: 0.4988 - acc: 0.7595 - val_loss: 0.5212 - val_acc: 0.7320\n",
      "Epoch 39/100\n",
      "100/100 - 76s - loss: 0.4970 - acc: 0.7595 - val_loss: 0.5117 - val_acc: 0.7470\n",
      "Epoch 40/100\n",
      "100/100 - 71s - loss: 0.5036 - acc: 0.7535 - val_loss: 0.4857 - val_acc: 0.7640\n",
      "Epoch 41/100\n",
      "100/100 - 100s - loss: 0.4994 - acc: 0.7550 - val_loss: 0.5200 - val_acc: 0.7480\n",
      "Epoch 42/100\n",
      "100/100 - 110s - loss: 0.4952 - acc: 0.7480 - val_loss: 0.5186 - val_acc: 0.7400\n",
      "Epoch 43/100\n",
      "100/100 - 110s - loss: 0.4877 - acc: 0.7725 - val_loss: 0.4513 - val_acc: 0.7800\n",
      "Epoch 44/100\n",
      "100/100 - 84s - loss: 0.4795 - acc: 0.7650 - val_loss: 0.4949 - val_acc: 0.7640\n",
      "Epoch 45/100\n",
      "100/100 - 113s - loss: 0.4896 - acc: 0.7580 - val_loss: 0.5336 - val_acc: 0.7390\n",
      "Epoch 46/100\n",
      "100/100 - 103s - loss: 0.4777 - acc: 0.7735 - val_loss: 0.5004 - val_acc: 0.7520\n",
      "Epoch 47/100\n",
      "100/100 - 124s - loss: 0.4856 - acc: 0.7645 - val_loss: 0.4894 - val_acc: 0.7650\n",
      "Epoch 48/100\n",
      "100/100 - 103s - loss: 0.4796 - acc: 0.7650 - val_loss: 0.4452 - val_acc: 0.7810\n",
      "Epoch 49/100\n",
      "100/100 - 112s - loss: 0.4841 - acc: 0.7545 - val_loss: 0.4525 - val_acc: 0.7750\n",
      "Epoch 50/100\n",
      "100/100 - 101s - loss: 0.4762 - acc: 0.7685 - val_loss: 0.5326 - val_acc: 0.7480\n",
      "Epoch 51/100\n",
      "100/100 - 110s - loss: 0.4735 - acc: 0.7710 - val_loss: 0.4370 - val_acc: 0.7880\n",
      "Epoch 52/100\n",
      "100/100 - 107s - loss: 0.4781 - acc: 0.7680 - val_loss: 0.4433 - val_acc: 0.7910\n",
      "Epoch 53/100\n",
      "100/100 - 130s - loss: 0.4674 - acc: 0.7765 - val_loss: 0.4663 - val_acc: 0.7750\n",
      "Epoch 54/100\n",
      "100/100 - 102s - loss: 0.4680 - acc: 0.7810 - val_loss: 0.4717 - val_acc: 0.7720\n",
      "Epoch 55/100\n",
      "100/100 - 117s - loss: 0.4898 - acc: 0.7590 - val_loss: 0.4650 - val_acc: 0.7680\n",
      "Epoch 56/100\n",
      "100/100 - 104s - loss: 0.4769 - acc: 0.7665 - val_loss: 0.5524 - val_acc: 0.7210\n",
      "Epoch 57/100\n",
      "100/100 - 109s - loss: 0.4748 - acc: 0.7690 - val_loss: 0.4348 - val_acc: 0.7910\n",
      "Epoch 58/100\n",
      "100/100 - 103s - loss: 0.4617 - acc: 0.7755 - val_loss: 0.4517 - val_acc: 0.7910\n",
      "Epoch 59/100\n",
      "100/100 - 111s - loss: 0.4519 - acc: 0.7870 - val_loss: 0.4502 - val_acc: 0.7740\n",
      "Epoch 60/100\n",
      "100/100 - 112s - loss: 0.4604 - acc: 0.7745 - val_loss: 0.4449 - val_acc: 0.7780\n",
      "Epoch 61/100\n",
      "100/100 - 111s - loss: 0.4504 - acc: 0.7835 - val_loss: 0.4530 - val_acc: 0.7820\n",
      "Epoch 62/100\n",
      "100/100 - 113s - loss: 0.4477 - acc: 0.7995 - val_loss: 0.5163 - val_acc: 0.7620\n",
      "Epoch 63/100\n",
      "100/100 - 103s - loss: 0.4479 - acc: 0.7895 - val_loss: 0.4386 - val_acc: 0.7970\n",
      "Epoch 64/100\n",
      "100/100 - 115s - loss: 0.4557 - acc: 0.7770 - val_loss: 0.4419 - val_acc: 0.7930\n",
      "Epoch 65/100\n",
      "100/100 - 103s - loss: 0.4569 - acc: 0.7840 - val_loss: 0.4023 - val_acc: 0.8190\n",
      "Epoch 66/100\n",
      "100/100 - 113s - loss: 0.4486 - acc: 0.7920 - val_loss: 0.4366 - val_acc: 0.7980\n",
      "Epoch 67/100\n",
      "100/100 - 108s - loss: 0.4335 - acc: 0.7960 - val_loss: 0.4453 - val_acc: 0.7830\n",
      "Epoch 68/100\n",
      "100/100 - 113s - loss: 0.4384 - acc: 0.7970 - val_loss: 0.4841 - val_acc: 0.7750\n",
      "Epoch 69/100\n",
      "100/100 - 106s - loss: 0.4519 - acc: 0.7825 - val_loss: 0.4187 - val_acc: 0.8070\n",
      "Epoch 70/100\n",
      "100/100 - 116s - loss: 0.4224 - acc: 0.8015 - val_loss: 0.5943 - val_acc: 0.7450\n",
      "Epoch 71/100\n",
      "100/100 - 81s - loss: 0.4368 - acc: 0.7955 - val_loss: 0.4162 - val_acc: 0.8010\n",
      "Epoch 72/100\n",
      "100/100 - 80s - loss: 0.4449 - acc: 0.7845 - val_loss: 0.4333 - val_acc: 0.7980\n",
      "Epoch 73/100\n",
      "100/100 - 64s - loss: 0.4277 - acc: 0.7945 - val_loss: 0.4491 - val_acc: 0.7850\n",
      "Epoch 74/100\n",
      "100/100 - 85s - loss: 0.4372 - acc: 0.8025 - val_loss: 0.4289 - val_acc: 0.7930\n",
      "Epoch 75/100\n",
      "100/100 - 56s - loss: 0.4415 - acc: 0.7900 - val_loss: 0.4368 - val_acc: 0.7930\n",
      "Epoch 76/100\n",
      "100/100 - 76s - loss: 0.4478 - acc: 0.7965 - val_loss: 0.4152 - val_acc: 0.8100\n",
      "Epoch 77/100\n",
      "100/100 - 66s - loss: 0.4372 - acc: 0.7840 - val_loss: 0.4327 - val_acc: 0.8000\n",
      "Epoch 78/100\n",
      "100/100 - 76s - loss: 0.4426 - acc: 0.7915 - val_loss: 0.4321 - val_acc: 0.7960\n",
      "Epoch 79/100\n",
      "100/100 - 74s - loss: 0.4389 - acc: 0.7960 - val_loss: 0.4346 - val_acc: 0.7960\n",
      "Epoch 80/100\n",
      "100/100 - 116s - loss: 0.4274 - acc: 0.7955 - val_loss: 0.4435 - val_acc: 0.8090\n",
      "Epoch 81/100\n",
      "100/100 - 77s - loss: 0.4276 - acc: 0.8135 - val_loss: 0.3986 - val_acc: 0.8190\n",
      "Epoch 82/100\n",
      "100/100 - 89s - loss: 0.4215 - acc: 0.8010 - val_loss: 0.4921 - val_acc: 0.7740\n",
      "Epoch 83/100\n",
      "100/100 - 81s - loss: 0.4291 - acc: 0.7975 - val_loss: 0.4447 - val_acc: 0.7980\n",
      "Epoch 84/100\n",
      "100/100 - 80s - loss: 0.4135 - acc: 0.8085 - val_loss: 0.4184 - val_acc: 0.7990\n",
      "Epoch 85/100\n",
      "100/100 - 73s - loss: 0.4241 - acc: 0.8105 - val_loss: 0.4136 - val_acc: 0.8090\n",
      "Epoch 86/100\n",
      "100/100 - 76s - loss: 0.4242 - acc: 0.8115 - val_loss: 0.4308 - val_acc: 0.8070\n",
      "Epoch 87/100\n",
      "100/100 - 73s - loss: 0.4158 - acc: 0.8095 - val_loss: 0.5254 - val_acc: 0.7780\n",
      "Epoch 88/100\n",
      "100/100 - 71s - loss: 0.4093 - acc: 0.8125 - val_loss: 0.5600 - val_acc: 0.7710\n"
     ]
    },
    {
     "name": "stdout",
     "output_type": "stream",
     "text": [
      "Epoch 89/100\n",
      "100/100 - 55s - loss: 0.4177 - acc: 0.8065 - val_loss: 0.4068 - val_acc: 0.8090\n",
      "Epoch 90/100\n",
      "100/100 - 78s - loss: 0.4037 - acc: 0.8195 - val_loss: 0.4346 - val_acc: 0.8030\n",
      "Epoch 91/100\n",
      "100/100 - 76s - loss: 0.4069 - acc: 0.8140 - val_loss: 0.4262 - val_acc: 0.8190\n",
      "Epoch 92/100\n",
      "100/100 - 113s - loss: 0.3979 - acc: 0.8300 - val_loss: 0.4005 - val_acc: 0.8160\n",
      "Epoch 93/100\n",
      "100/100 - 115s - loss: 0.4045 - acc: 0.8245 - val_loss: 0.4212 - val_acc: 0.7970\n",
      "Epoch 94/100\n",
      "100/100 - 108s - loss: 0.4119 - acc: 0.8090 - val_loss: 0.3902 - val_acc: 0.8240\n",
      "Epoch 95/100\n",
      "100/100 - 112s - loss: 0.4048 - acc: 0.8065 - val_loss: 0.3828 - val_acc: 0.8270\n",
      "Epoch 96/100\n",
      "100/100 - 104s - loss: 0.3958 - acc: 0.8205 - val_loss: 0.4383 - val_acc: 0.7920\n",
      "Epoch 97/100\n",
      "100/100 - 113s - loss: 0.3906 - acc: 0.8155 - val_loss: 0.4456 - val_acc: 0.8070\n",
      "Epoch 98/100\n",
      "100/100 - 105s - loss: 0.3974 - acc: 0.8260 - val_loss: 0.4057 - val_acc: 0.8180\n",
      "Epoch 99/100\n",
      "100/100 - 113s - loss: 0.4054 - acc: 0.8175 - val_loss: 0.4007 - val_acc: 0.8120\n",
      "Epoch 100/100\n",
      "100/100 - 106s - loss: 0.3995 - acc: 0.8170 - val_loss: 0.5062 - val_acc: 0.7810\n"
     ]
    }
   ],
   "source": [
    "history = model.fit_generator(\n",
    "      train_generator,\n",
    "      steps_per_epoch=100,  # 2000 images = batch_size * steps\n",
    "      epochs=100,\n",
    "      validation_data=validation_generator,\n",
    "      validation_steps=50,  # 1000 images = batch_size * steps\n",
    "      verbose=2)"
   ]
  },
  {
   "cell_type": "code",
   "execution_count": 12,
   "metadata": {},
   "outputs": [
    {
     "data": {
      "image/png": "[encoded data removed]",
      "text/plain": [
       "<Figure size 432x288 with 1 Axes>"
      ]
     },
     "metadata": {
      "needs_background": "light"
     },
     "output_type": "display_data"
    },
    {
     "data": {
      "image/png": "[encoded data removed]",
      "text/plain": [
       "<Figure size 432x288 with 1 Axes>"
      ]
     },
     "metadata": {
      "needs_background": "light"
     },
     "output_type": "display_data"
    }
   ],
   "source": [
    "import matplotlib.pyplot as plt\n",
    "acc = history.history['acc']\n",
    "val_acc = history.history['val_acc']\n",
    "loss = history.history['loss']\n",
    "val_loss = history.history['val_loss']\n",
    "\n",
    "epochs = range(len(acc))\n",
    "\n",
    "plt.plot(epochs, acc, 'bo', label='Training accuracy')\n",
    "plt.plot(epochs, val_acc, 'b', label='Validation accuracy')\n",
    "plt.title('Training and validation accuracy')\n",
    "\n",
    "plt.figure()\n",
    "\n",
    "plt.plot(epochs, loss, 'bo', label='Training Loss')\n",
    "plt.plot(epochs, val_loss, 'b', label='Validation Loss')\n",
    "plt.title('Training and validation loss')\n",
    "plt.legend()\n",
    "plt.savefig('graph.jpg')\n",
    "plt.show()"
   ]
  },
  {
   "cell_type": "code",
   "execution_count": null,
   "metadata": {},
   "outputs": [],
   "source": []
  }
 ],
 "metadata": {
  "kernelspec": {
   "display_name": "Python 3",
   "language": "python",
   "name": "python3"
  },
  "language_info": {
   "codemirror_mode": {
    "name": "ipython",
    "version": 3
   },
   "file_extension": ".py",
   "mimetype": "text/x-python",
   "name": "python",
   "nbconvert_exporter": "python",
   "pygments_lexer": "ipython3",
   "version": "3.7.3"
  }
 },
 "nbformat": 4,
 "nbformat_minor": 2
}
